{
 "cells": [
  {
   "cell_type": "code",
   "execution_count": null,
   "metadata": {},
   "outputs": [
    {
     "name": "stdout",
     "output_type": "stream",
     "text": [
      "num_page 100\n",
      "读取Page10完成\n",
      "读取Page20完成\n",
      "读取Page30完成\n",
      "读取Page40完成\n",
      "读取Page50完成\n",
      "读取Page60完成\n",
      "读取Page70完成\n"
     ]
    }
   ],
   "source": [
    "import requests\n",
    "from bs4 import BeautifulSoup\n",
    "import csv\n",
    "\"\"\"\n",
    "    html 的文本提取有很多方法和库，主要3种：\n",
    "    正则表达式\n",
    "    xpath\n",
    "    bs4\n",
    "\"\"\"\n",
    "num_page = 2\n",
    "flag = 0\n",
    "# url = 'https://nj.lianjia.com/zufang/'\n",
    "# url = 'https://sh.lianjia.com/zufang/'\n",
    "\n",
    "with open('rent_house.csv', 'w') as f:\n",
    "    f_csv = csv.writer(f)\n",
    "    page = 1\n",
    "    while page < num_page:\n",
    "        url = 'https://sh.lianjia.com/zufang/pg{}'.format(str(page)) \n",
    "        headers = {\n",
    "            'user-agent':'chrome',\n",
    "        }\n",
    "        r = requests.get(url, headers=headers)\n",
    "        soup = BeautifulSoup(r.text, 'lxml')\n",
    "        current_page_info = soup.find_all(class_=\"content__list--item\")\n",
    "    #     len(current_page_info)        \n",
    "        if not flag:\n",
    "            # 读取页数\n",
    "            content_page = soup.find_all(class_=\"content__pg\")[0]\n",
    "            num_page = int(content_page['data-totalpage'])\n",
    "            print('num_page', num_page)\n",
    "            flag = 1\n",
    "\n",
    "    #   解析当前页面中的数据\n",
    "        for i in range(len(current_page_info)):\n",
    "            info1 = current_page_info[i]\n",
    "        #     print(info1)\n",
    "            title = info1.div.a.string.strip()\n",
    "            html = info1.div.a['href']\n",
    "        #     print(info1.div)\n",
    "            buildings_info = info1.div.find_all(class_=\"content__list--item--des\")[0]\n",
    "            house_type = buildings_info.get_text(strip=True).split(' ')[0].split('/')\n",
    "            bottom = info1.div.find_all(class_=\"content__list--item--bottom oneline\")[0] \n",
    "            transport_info = ','.join(bottom.get_text().strip().split('\\n'))\n",
    "#             print(transport_info)\n",
    "            line = [title, html]\n",
    "            line.extend(house_type)\n",
    "            line.append(transport_info)\n",
    "        #     print(line)\n",
    "            f_csv.writerow(line)\n",
    "        if page % 10 == 0:\n",
    "            print('读取Page{}完成'.format(page))\n",
    "        page += 1\n",
    "print('读取完成')"
   ]
  },
  {
   "cell_type": "code",
   "execution_count": 63,
   "metadata": {},
   "outputs": [
    {
     "data": {
      "text/plain": [
       "'title'"
      ]
     },
     "execution_count": 63,
     "metadata": {},
     "output_type": "execute_result"
    }
   ],
   "source": [
    "soup.title.name"
   ]
  },
  {
   "cell_type": "code",
   "execution_count": 8,
   "metadata": {},
   "outputs": [
    {
     "data": {
      "text/plain": [
       "'上海租房信息_上海出租房源|房屋出租价格【上海贝壳租房】'"
      ]
     },
     "execution_count": 8,
     "metadata": {},
     "output_type": "execute_result"
    }
   ],
   "source": [
    "soup.title.string"
   ]
  },
  {
   "cell_type": "code",
   "execution_count": 9,
   "metadata": {},
   "outputs": [
    {
     "data": {
      "text/plain": [
       "'head'"
      ]
     },
     "execution_count": 9,
     "metadata": {},
     "output_type": "execute_result"
    }
   ],
   "source": [
    "soup.title.parent.name"
   ]
  },
  {
   "cell_type": "code",
   "execution_count": 14,
   "metadata": {},
   "outputs": [
    {
     "data": {
      "text/plain": [
       "<p>您的浏览器版本过低，请升级：</p>"
      ]
     },
     "execution_count": 14,
     "metadata": {},
     "output_type": "execute_result"
    }
   ],
   "source": [
    "soup.p"
   ]
  },
  {
   "cell_type": "code",
   "execution_count": 15,
   "metadata": {},
   "outputs": [
    {
     "data": {
      "text/plain": [
       "<a href=\"https://www.baidu.com/s?wd=chrome\" target=\"_blank\">谷歌 Chrome浏览器</a>"
      ]
     },
     "execution_count": 15,
     "metadata": {},
     "output_type": "execute_result"
    }
   ],
   "source": [
    "soup.a"
   ]
  },
  {
   "cell_type": "code",
   "execution_count": 85,
   "metadata": {},
   "outputs": [
    {
     "name": "stdout",
     "output_type": "stream",
     "text": [
      "<html>\n",
      " <body>\n",
      "  <div class=\"content__pg\" data-curpage=\"1\" data-el=\"page_navigation\" data-totalpage=\"100\" data-url=\"/zufang/pg{page}/\">\n",
      "  </div>\n",
      " </body>\n",
      "</html>\n"
     ]
    },
    {
     "data": {
      "text/plain": [
       "'page_navigation'"
      ]
     },
     "execution_count": 85,
     "metadata": {},
     "output_type": "execute_result"
    }
   ],
   "source": [
    "html = '<div class=\"content__pg\" data-el=\"page_navigation\" data-url=\"/zufang/pg{page}/\" data-totalPage=100 data-curPage=1></div>'\n",
    "soup = BeautifulSoup(html)\n",
    "print(soup.prettify())\n",
    "soup.div['data-el']"
   ]
  },
  {
   "cell_type": "code",
   "execution_count": null,
   "metadata": {},
   "outputs": [],
   "source": []
  }
 ],
 "metadata": {
  "kernelspec": {
   "display_name": "Python 3",
   "language": "python",
   "name": "python3"
  },
  "language_info": {
   "codemirror_mode": {
    "name": "ipython",
    "version": 3
   },
   "file_extension": ".py",
   "mimetype": "text/x-python",
   "name": "python",
   "nbconvert_exporter": "python",
   "pygments_lexer": "ipython3",
   "version": "3.7.7"
  },
  "toc": {
   "base_numbering": 1,
   "nav_menu": {},
   "number_sections": true,
   "sideBar": true,
   "skip_h1_title": false,
   "title_cell": "Table of Contents",
   "title_sidebar": "Contents",
   "toc_cell": false,
   "toc_position": {
    "height": "calc(100% - 180px)",
    "left": "10px",
    "top": "150px",
    "width": "384px"
   },
   "toc_section_display": true,
   "toc_window_display": true
  }
 },
 "nbformat": 4,
 "nbformat_minor": 4
}

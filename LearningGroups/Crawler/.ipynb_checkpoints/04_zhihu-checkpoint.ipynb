{
 "cells": [
  {
   "cell_type": "markdown",
   "metadata": {},
   "source": [
    "### 登录知乎,抓取你的知乎时间线内容并将结果保存在本地的 csv 文件中"
   ]
  },
  {
   "cell_type": "code",
   "execution_count": 72,
   "metadata": {},
   "outputs": [
    {
     "name": "stdout",
     "output_type": "stream",
     "text": [
      "zvideo\n",
      "article\n",
      "<Element html at 0x1c9a9574f48>\n",
      "answer\n"
     ]
    },
    {
     "ename": "UnicodeEncodeError",
     "evalue": "'gbk' codec can't encode character '\\u2795' in position 8287: illegal multibyte sequence",
     "output_type": "error",
     "traceback": [
      "\u001b[1;31m---------------------------------------------------------------------------\u001b[0m",
      "\u001b[1;31mUnicodeEncodeError\u001b[0m                        Traceback (most recent call last)",
      "\u001b[1;32m<ipython-input-72-8572fbe3a495>\u001b[0m in \u001b[0;36m<module>\u001b[1;34m\u001b[0m\n\u001b[0;32m     29\u001b[0m         \u001b[0mline\u001b[0m \u001b[1;33m=\u001b[0m \u001b[1;33m[\u001b[0m\u001b[0mitem\u001b[0m\u001b[1;33m[\u001b[0m\u001b[1;34m'id'\u001b[0m\u001b[1;33m]\u001b[0m\u001b[1;33m,\u001b[0m \u001b[0mitem\u001b[0m\u001b[1;33m[\u001b[0m\u001b[1;34m'target'\u001b[0m\u001b[1;33m]\u001b[0m\u001b[1;33m[\u001b[0m\u001b[1;34m'id'\u001b[0m\u001b[1;33m]\u001b[0m\u001b[1;33m,\u001b[0m \u001b[0mitem\u001b[0m\u001b[1;33m[\u001b[0m\u001b[1;34m'target'\u001b[0m\u001b[1;33m]\u001b[0m\u001b[1;33m[\u001b[0m\u001b[1;34m'type'\u001b[0m\u001b[1;33m]\u001b[0m\u001b[1;33m,\u001b[0m \u001b[0mcontent\u001b[0m\u001b[1;33m,\u001b[0m \u001b[0mitem\u001b[0m\u001b[1;33m[\u001b[0m\u001b[1;34m'action_text'\u001b[0m\u001b[1;33m]\u001b[0m\u001b[1;33m]\u001b[0m\u001b[1;33m\u001b[0m\u001b[1;33m\u001b[0m\u001b[0m\n\u001b[0;32m     30\u001b[0m         \u001b[0mresults\u001b[0m\u001b[1;33m.\u001b[0m\u001b[0mappend\u001b[0m\u001b[1;33m(\u001b[0m\u001b[0mline\u001b[0m\u001b[1;33m)\u001b[0m\u001b[1;33m\u001b[0m\u001b[1;33m\u001b[0m\u001b[0m\n\u001b[1;32m---> 31\u001b[1;33m         \u001b[0mf_csv\u001b[0m\u001b[1;33m.\u001b[0m\u001b[0mwriterow\u001b[0m\u001b[1;33m(\u001b[0m\u001b[0mline\u001b[0m\u001b[1;33m)\u001b[0m\u001b[1;33m\u001b[0m\u001b[1;33m\u001b[0m\u001b[0m\n\u001b[0m",
      "\u001b[1;31mUnicodeEncodeError\u001b[0m: 'gbk' codec can't encode character '\\u2795' in position 8287: illegal multibyte sequence"
     ]
    }
   ],
   "source": [
    "import requests\n",
    "import csv\n",
    "from lxml import etree\n",
    "# url = 'https://www.zhihu.com'\n",
    "url = 'https://www.zhihu.com/api/v3/feed/topstory/recommend?session_token=99930a90644a5bdb148d93b938e7db3b&desktop=true&page_number=3&limit=6&action=down&after_id=11&ad_interval=-1'\n",
    "headers = {'user-agent':'chrome',\n",
    "           'cookie':r'_xsrf=nbRa3XJ4yDWNOHl2a7SQ5t6iNDCGzc9r; _zap=2dc04c7f-e207-4a35-9322-1821274123b5; d_c0=\"AAAgzAX3qQ-PTpjHoJ0_DUJoMSmjKvJkfoc=|1561884191\"; _ga=GA1.2.1604281372.1582640546; z_c0=\"2|1:0|10:1587652475|4:z_c0|92:Mi4xb0ttYkFBQUFBQUFBQUNETUJmZXBEeVlBQUFCZ0FsVk5lX1dPWHdBMUZmOFpjTjFiUWhvdGJoeWQwTVNUZzF0eV93|b12bab93d3c05b9ca8204634b3b4809d874749781375917a205b739d937909b5\"; tst=h; tshl=; q_c1=cb808145f4864a9594254cfcf18da12f|1592719505000|1566063004000; _gid=GA1.2.1027747449.1593788853; Hm_lvt_98beee57fd2ef70ccdd5ca52b9740c49=1593691006,1593694566,1593788853,1593793213; Hm_lpvt_98beee57fd2ef70ccdd5ca52b9740c49=1593793213; SESSIONID=XHmpomts1IkvhYjhnTFMllM2tfPM6wWdFvANHLMLR1J; JOID=W1AXB0tQdHlIP7JXcF0sr3ttzdpqCTYSPFneKQVoPBg4U-I8Ep4ihBs3uVtyZ3iiZ8lFs8iLKWqxXRfqhHdSRnw=; osd=U18cC0tYe3JEP7pYe1Esp3RmwdpiBj0ePFHRIgloNBczX-I0HZUuhBM4sldyb3epa8lNvMOHKWK-VhvqjHhZSnw=; KLBRSID=cdfcc1d45d024a211bb7144f66bda2cf|1593793360|1593793219'\n",
    "          }\n",
    "r = requests.get(url, headers=headers)\n",
    "text = r.json()\n",
    "\n",
    "results = []\n",
    "with open('zhihu.csv', 'a' ) as f:\n",
    "    f_csv = csv.writer(f)\n",
    "    for item in text['data']:\n",
    "        try:\n",
    "            print(item['target']['type'])\n",
    "            if item['target']['type'] == 'article':\n",
    "                # 解析 html\n",
    "                html = etree.HTML(item['target']['content'])\n",
    "                print(html)\n",
    "            elif item['target']['type'] == 'answer':\n",
    "                content = item['target']['content']\n",
    "            elif item['target']['type'] == 'zvideo':\n",
    "                content = item['target']['title']\n",
    "        except:\n",
    "            print('x', item['target']['type'])\n",
    "            \n",
    "        line = [item['id'], item['target']['id'], item['target']['type'], content, item['action_text']]\n",
    "        results.append(line)\n",
    "        f_csv.writerow(line)"
   ]
  },
  {
   "cell_type": "code",
   "execution_count": 71,
   "metadata": {},
   "outputs": [
    {
     "ename": "SyntaxError",
     "evalue": "invalid syntax (<ipython-input-71-0ec6027a2efd>, line 1)",
     "output_type": "error",
     "traceback": [
      "\u001b[1;36m  File \u001b[1;32m\"<ipython-input-71-0ec6027a2efd>\"\u001b[1;36m, line \u001b[1;32m1\u001b[0m\n\u001b[1;33m    https://www.zhihu.com/api/v3/feed/topstory/recommend?session_token=99930a90644a5bdb148d93b938e7db3b&desktop=true&page_number=3&limit=6&action=down&after_id=11&ad_interval=-1\u001b[0m\n\u001b[1;37m           ^\u001b[0m\n\u001b[1;31mSyntaxError\u001b[0m\u001b[1;31m:\u001b[0m invalid syntax\n"
     ]
    }
   ],
   "source": [
    "https://www.zhihu.com/api/v3/feed/topstory/recommend?session_token=99930a90644a5bdb148d93b938e7db3b&desktop=true&page_number=3&limit=6&action=down&after_id=11&ad_interval=-1\n"
   ]
  },
  {
   "cell_type": "code",
   "execution_count": 9,
   "metadata": {},
   "outputs": [
    {
     "name": "stdout",
     "output_type": "stream",
     "text": [
      "12_1593940306.633\n",
      "13_1593940306.83\n",
      "14_1593940306.402\n",
      "15_1593940306.28\n",
      "16_1593940306.930\n",
      "17_1593940306.239\n"
     ]
    }
   ],
   "source": [
    "res = []\n",
    "contents = text['data']\n",
    "for i in range(len(contents)):\n",
    "    item = contents[i]\n",
    "#     print(item)\n",
    "    id = item['id']\n",
    "    print(id)\n",
    "#     try:\n",
    "#         title = item['target']['title']\n",
    "#         content = item['target']['content']\n",
    "#     except:\n",
    "#         print(item['target'])\n",
    "#     print(title, '...', content)\n",
    "#     res.extend([id, title, content])"
   ]
  },
  {
   "cell_type": "code",
   "execution_count": 32,
   "metadata": {},
   "outputs": [
    {
     "data": {
      "text/plain": [
       "'https://www.zhihu.com/api/v3/feed/topstory/recommend?session_token=99930a90644a5bdb148d93b938e7db3b&desktop=true&page_number=4&limit=6&action=down&after_id=17&ad_interval=-1'"
      ]
     },
     "execution_count": 32,
     "metadata": {},
     "output_type": "execute_result"
    }
   ],
   "source": [
    "'https://www.zhihu.com/api/v3/feed/topstory/recommend?session_token=99930a90644a5bdb148d93b938e7db3b&desktop=true&page_number=3&limit=6&action=down&after_id=11&ad_interval=-1'\n",
    "'https://www.zhihu.com/api/v3/feed/topstory/recommend?session_token=99930a90644a5bdb148d93b938e7db3b&desktop=true&page_number=4&limit=6&action=down&after_id=17&ad_interval=-1'"
   ]
  },
  {
   "cell_type": "code",
   "execution_count": 74,
   "metadata": {},
   "outputs": [
    {
     "data": {
      "text/plain": [
       "{'id': '17_1593796181.134',\n",
       " 'type': 'feed',\n",
       " 'offset': 17,\n",
       " 'verb': 'TOPIC_ACKNOWLEDGED_ANSWER',\n",
       " 'created_time': 1593796181,\n",
       " 'updated_time': 1593796181,\n",
       " 'target': {'id': 1211129124,\n",
       "  'type': 'answer',\n",
       "  'url': 'https://api.zhihu.com/answers/1211129124',\n",
       "  'author': {'id': '9acd1c5913271c4c378abfd559190e04',\n",
       "   'type': 'people',\n",
       "   'url': 'https://api.zhihu.com/people/9acd1c5913271c4c378abfd559190e04',\n",
       "   'user_type': 'people',\n",
       "   'url_token': 'wangbeinan',\n",
       "   'name': '北南',\n",
       "   'headline': '地镇高岗，一派溪山千古秀',\n",
       "   'avatar_url': 'https://pic3.zhimg.com/50/v2-f9e2e73cef6e4554c3df1d39258877ab_m.jpg',\n",
       "   'is_org': False,\n",
       "   'gender': 1,\n",
       "   'badge': [{'type': 'identity', 'description': '电气和计算机工程博士'}],\n",
       "   'followers_count': 56236,\n",
       "   'is_following': False,\n",
       "   'is_followed': False},\n",
       "  'created_time': 1589005660,\n",
       "  'updated_time': 1589057363,\n",
       "  'voteup_count': 687,\n",
       "  'thanks_count': 140,\n",
       "  'comment_count': 32,\n",
       "  'is_copyable': False,\n",
       "  'question': {'id': 32019460,\n",
       "   'type': 'question',\n",
       "   'url': 'https://api.zhihu.com/questions/32019460',\n",
       "   'author': {'id': 'bc0250c719052b54d7d5ca2e296815c9',\n",
       "    'type': 'people',\n",
       "    'url': 'https://api.zhihu.com/people/bc0250c719052b54d7d5ca2e296815c9',\n",
       "    'user_type': 'people',\n",
       "    'url_token': 'sydnever',\n",
       "    'name': '元一',\n",
       "    'headline': '',\n",
       "    'avatar_url': 'https://pic1.zhimg.com/50/v2-57d7c8c5970c75126b40f925aaa6e78b_m.jpg',\n",
       "    'is_org': False,\n",
       "    'gender': 1,\n",
       "    'badge': [],\n",
       "    'followers_count': 2083,\n",
       "    'is_following': False,\n",
       "    'is_followed': False},\n",
       "   'title': '刷完 LeetCode 是什么水平？能拿到什么水平的 offer？',\n",
       "   'created': 1436340730,\n",
       "   'answer_count': 108,\n",
       "   'follower_count': 6308,\n",
       "   'comment_count': 12,\n",
       "   'bound_topic_ids': [1093, 1354, 17637, 25257, 127064],\n",
       "   'is_following': False,\n",
       "   'excerpt': '',\n",
       "   'relationship': {'is_author': False},\n",
       "   'detail': '',\n",
       "   'question_type': 'normal'},\n",
       "  'thumbnail': 'https://pic4.zhimg.com/50/v2-adf5954c70e4ce6440cefc51bff05aaa_200x112.jpg',\n",
       "  'excerpt': '如果你是把目标定在了互联网大厂，包括一些临近上市的当红炸子鸡，那我觉得你不仅仅要题目&ldquo;做的出来&rdquo;, 更重要的是要能&ldquo;说的明白&rdquo;。 正所谓光说不练假把式，光练不说傻把式，又说又练才是真把式。 做的出来这一步我不多说了，几个高赞回答都说的很好。做的出来是一切的基础，是后续沟通的前提。 但&ldquo;做的出来&rdquo;不是最终目的，你面对的是一个有灵有肉的面试官，而不是自动测试的机器，否则一个leetcode这样的系统不就可以取代&hellip;',\n",
       "  'excerpt_new': '如果你是把目标定在了互联网大厂，包括一些临近上市的当红炸子鸡，那我觉得你不仅仅要题目&ldquo;做的出来&rdquo;, 更重要的是要能&ldquo;说的明白&rdquo;。 正所谓光说不练假把式，光练不说傻把式，又说又练才是真把式。 做的出来这一步我不多说了，几个高赞回答都说的很好。做的出来是一切的基础，是后续沟通的前提。 但&ldquo;做的出来&rdquo;不是最终目的，你面对的是一个有灵有肉的面试官，而不是自动测试的机器，否则一个leetcode这样的系统不就可以取代&hellip;',\n",
       "  'preview_type': 'default',\n",
       "  'preview_text': '',\n",
       "  'reshipment_settings': 'disallowed',\n",
       "  'content': '<p>如果你是把目标定在了互联网大厂，包括一些临近上市的当红炸子鸡，那我觉得你不仅仅要题目“做的出来”, 更重要的是要能“说的明白”。</p><p>正所谓光说不练假把式，光练不说傻把式，又说又练才是真把式。</p><p>做的出来这一步我不多说了，几个高赞回答都说的很好。做的出来是一切的基础，是后续沟通的前提。</p><p>但“做的出来”不是最终目的，你面对的是一个有灵有肉的面试官，而不是自动测试的机器，否则一个leetcode这样的系统不就可以取代面试官了？你的目的是让对方喜欢你，是用“说”来让对方知晓你的能力，也是用“说”来战胜其他竞争者脱颖而出。那我就重点来说一下“说的明白”</p><p>1 说清楚算法的时间复杂度和空间复杂度，这个很多算法会有平均情况和最差情况, 你也要讨论清楚什么时候会出现最差情况。</p><p>2 说清楚各种边界条件，要知道如何测试你的代码。比如说对于输入为空返回什么等等。leetcode设计的那些test cases是这个网站价值的重中之重。</p><p>3 说清楚算法的适用条件，也就是什么时候这个算法才是正确的。比如说如果图中有边的长度是负值，那么dijkstra算法还能用吗？又比如说选取top k这种题会有好多种算法，它们之间的优劣又是怎么样的？在什么情况下某种算法才是最优的？</p><p>4 讨论多线程或者分布式的情况。很多公司会在你题目做完后，给你几个follow up。比如说就会问你，如果把你的算法放到100台机器上，这个算法还成立吗？要如何修改？</p><p>5 讨论极大数据量的情况。和第4点类似，比如说你做个排序，如果内存中放不下所有的元素，你如何处理？时间复杂度和空间复杂度又会有怎样的变化？</p><p>以上是比较“硬”的“说的明白”，下面还有比较“软”的“说的明白”。也就是现在HR们常说的软技能。</p><p>1 你是否能问对问题？这里既包括一些clarifying的问题， 也包括你是不是能合理的要到面试官的提示。</p><p>2 你是否能说清楚你的思维过程？有逻辑，有条理，而不是给面试官感觉你事先看过答案。有些朋友看完题上来第一句话就是“这题用DP”，你以为你在打ACM个人战吗？你不和你队友说下思路吗？难道不是先找一些子结构，装模作样的试试看，然后再说“这题可以用DP，元芳，你怎么看”吗？ 当然，你也不用太戏精，自然就好。</p><p>3 你是否能接着面试官给的提示进行思考和讨论，而不是固执己见。关于这一点，我想很多朋友会看过一些面经，有时候候选人已经是给出最优解了，但是面试官会给出不同的意见，引导候选人去做一个其他的解法。这是为什么？是面试官不知道最优解吗？有这个可能，但也有可能是面试官通过这一点来和你沟通，看你如和应对。往往无视面试官意见的朋友，是不容易得到很好的反馈的。当然，我也不是说面试官说啥你都照做，因为可能因为你被面试官故意误导或者他也真不会造成题目没有及时做出来。如何说服对方，这就又是一门学问了。</p><p>4 你是否能控制好时间，控制节奏，甚至引导面试官来到你更熟悉的领域。</p><p>其实软的东西有很多，我以后还可以继续补充。我说这些也不是吓唬大家，让大家焦虑，其实也没必要焦虑，因为这些软技能咱们大多数程序员都很一般，很少有特别好的。不管你是不是科班出身，学校也不教这个。但也正因为咱们都起点比较低，所以提升的空间才大，你稍微努力练习一下，就能有机会脱颖而出。</p><figure data-size=\"normal\"><img src=\"https://pic4.zhimg.com/50/v2-9708742d51b03e810517fed967a0543c_hd.jpg\" data-caption=\"\" data-size=\"normal\" data-rawwidth=\"3000\" data-rawheight=\"2000\" data-default-watermark-src=\"https://pic4.zhimg.com/50/v2-22dd53e78d08cae3475687a8babaabd5_hd.jpg\" class=\"origin_image zh-lightbox-thumb\" width=\"3000\" data-original=\"https://pic4.zhimg.com/v2-9708742d51b03e810517fed967a0543c_r.jpg\"/></figure><p>我建议</p><ul><li><b>找几个朋友互相练习, 你要习惯在团队里工作</b></li><li><b>一边刷题，一边自言自语讲自己的思路，自问自答</b></li><li><b>把自己做题和自言自语的视频录下来，像我这样</b></li></ul><a href=\"https://link.zhihu.com/?target=https%3A//www.youtube.com/watch%3Fv%3D7oJ-5CShtUQ\" data-draft-node=\"block\" data-draft-type=\"link-card\" class=\" external\" target=\"_blank\" rel=\"nofollow noreferrer\"><span class=\"invisible\">https://www.</span><span class=\"visible\">youtube.com/watch?</span><span class=\"invisible\">v=7oJ-5CShtUQ</span><span class=\"ellipsis\"></span></a><p>我觉得如果你能把以上把握好，那么你算法coding轮应该可以得到不错的分数。可面试还有系统设计轮和behavior问题轮啊，这些怎么办？其实“说的明白”是相通的，面试不仅仅是知识水平的较量，同样也是你和你未来同事的第一次合作，面试官和你心里都会装着同一个问题，你以后愿意和这样的一个人天天说话吗？所以说呢，把“话”说好，会为你的面试加分不少。</p><hr/><p>对于觉得学数据结构与算法有困难的朋友们，可以看看我这篇。少则得，多则惑。其实面试中绝大多数题目并不要你会太多高深的数据结构和算法，你把二叉树和哈希表弄明白了，就可以搞定小一半题目了。</p><a href=\"https://www.zhihu.com/question/303208441/answer/538071425\" data-draft-node=\"block\" data-draft-type=\"link-card\" class=\"internal\">大二学生，计算机科学与技术专业，学到数据结构和组原有点心态爆炸了，看不懂敲不出代码，还有救吗 ？</a><hr/><a data-draft-node=\"block\" data-draft-type=\"mcn-link-card\" data-mcn-id=\"1242676877354999808\"></a><p></p>',\n",
       "  'mark_infos': [{'mark_type': 'roundtable'}],\n",
       "  'relationship': {'is_thanked': False,\n",
       "   'is_nothelp': False,\n",
       "   'voting': 0,\n",
       "   'upvoted_followee_ids': []},\n",
       "  'is_labeled': True,\n",
       "  'visited_count': 88114},\n",
       " 'brief': '{\"source\": \"TS\", \"type\": \"answer\", \"id\": 1211129124}',\n",
       " 'uninterest_reasons': [{'reason_id': 3,\n",
       "   'reason_type': 'topic',\n",
       "   'object_token': '19925162',\n",
       "   'object_type': 'topic',\n",
       "   'reason_text': '力扣（LeetCode）'},\n",
       "  {'reason_id': 3,\n",
       "   'reason_type': 'topic',\n",
       "   'object_token': '19554298',\n",
       "   'object_type': 'topic',\n",
       "   'reason_text': '编程'},\n",
       "  {'reason_id': 3,\n",
       "   'reason_type': 'topic',\n",
       "   'object_token': '19553510',\n",
       "   'object_type': 'topic',\n",
       "   'reason_text': '算法'},\n",
       "  {'reason_id': 3,\n",
       "   'reason_type': 'topic',\n",
       "   'object_token': '19602996',\n",
       "   'object_type': 'topic',\n",
       "   'reason_text': '程序员能力'},\n",
       "  {'reason_id': 2,\n",
       "   'reason_type': 'creator',\n",
       "   'object_token': '9acd1c5913271c4c378abfd559190e04',\n",
       "   'object_type': 'people',\n",
       "   'reason_text': '北南创作的内容'}],\n",
       " 'attached_info': 'CogDCP2e1dnppI+HdRAEGgkyNTAyNzU1NDQg3JrZ9QUorwUwIEARSg4KBVVTQ0wyEgEwGAAgAFIcdXNlcmNmX2NsdXN0ZXJfdjJfYWRkX2Fuc3dlcloHNTAwNzE5M3IKMTIxMTEyOTEyNHhbggFJaHR0cHM6Ly9waWM0LnpoaW1nLmNvbS81MC92Mi1hZGY1OTU0YzcwZTRjZTY0NDBjZWZjNTFiZmYwNWFhYV8yMDB4MTEyLmpwZ4oBCDMyMDE5NDYwqgEJcmVjb21tZW5k8gFOCAASSnJ3OjIuMDtpc286NjIuMDtiaTowLjA7cnVsZXM6R29vZFN0dWZmUmVjb21tZW5kV2VpZ2h0UnVsZSxDb21tZXJjaWFsUmVyYW5r8gEFCAsSATPyAQoIDBIGRWNvbUhX8gEoCAoSJDNmYjM0OTdhLTQ3MzAtNDY4Yy05NWI4LWNkOTk5NGY5NzhjM4gCyPuerbEukgIgOWFjZDFjNTkxMzI3MWM0YzM3OGFiZmQ1NTkxOTBlMDQ=',\n",
       " 'actors': [{'id': '19553510',\n",
       "   'type': 'topic',\n",
       "   'url': 'https://api.zhihu.com/topics/19553510',\n",
       "   'avatar_url': 'https://pic1.zhimg.com/50/2e6276881_s.jpg',\n",
       "   'name': '算法',\n",
       "   'excerpt': '',\n",
       "   'introduction': ''}],\n",
       " 'show_actor_time': False,\n",
       " 'action_text': '算法',\n",
       " 'action_text_tpl': '热门内容, 来自: {}',\n",
       " 'action_card': False}"
      ]
     },
     "execution_count": 74,
     "metadata": {},
     "output_type": "execute_result"
    }
   ],
   "source": [
    "contents[-1]"
   ]
  },
  {
   "cell_type": "code",
   "execution_count": null,
   "metadata": {},
   "outputs": [],
   "source": []
  }
 ],
 "metadata": {
  "kernelspec": {
   "display_name": "Python 3",
   "language": "python",
   "name": "python3"
  },
  "language_info": {
   "codemirror_mode": {
    "name": "ipython",
    "version": 3
   },
   "file_extension": ".py",
   "mimetype": "text/x-python",
   "name": "python",
   "nbconvert_exporter": "python",
   "pygments_lexer": "ipython3",
   "version": "3.7.7"
  },
  "toc": {
   "base_numbering": 1,
   "nav_menu": {},
   "number_sections": true,
   "sideBar": true,
   "skip_h1_title": false,
   "title_cell": "Table of Contents",
   "title_sidebar": "Contents",
   "toc_cell": false,
   "toc_position": {
    "height": "calc(100% - 180px)",
    "left": "10px",
    "top": "150px",
    "width": "384px"
   },
   "toc_section_display": true,
   "toc_window_display": false
  }
 },
 "nbformat": 4,
 "nbformat_minor": 4
}

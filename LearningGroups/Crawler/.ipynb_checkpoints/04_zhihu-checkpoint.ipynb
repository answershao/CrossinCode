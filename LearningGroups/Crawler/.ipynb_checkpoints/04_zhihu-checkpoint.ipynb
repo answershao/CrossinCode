{
 "cells": [
  {
   "cell_type": "markdown",
   "metadata": {},
   "source": [
    "### 登录知乎,抓取你的知乎时间线内容并将结果保存在本地的 csv 文件中"
   ]
  },
  {
   "cell_type": "code",
   "execution_count": 91,
   "metadata": {},
   "outputs": [
    {
     "name": "stdout",
     "output_type": "stream",
     "text": [
      "zvideo\n",
      "answer\n",
      "PDF\n",
      "answer\n",
      "整形外科\n",
      "answer\n",
      "前端工程师\n",
      "article\n",
      "理财\n",
      "answer\n",
      "第三者\n",
      "写入完成\n"
     ]
    }
   ],
   "source": [
    "import requests\n",
    "import csv\n",
    "# from lxml import etree\n",
    "# url = 'https://www.zhihu.com'\n",
    "url = 'https://www.zhihu.com/api/v3/feed/topstory/recommend?session_token=99930a90644a5bdb148d93b938e7db3b&desktop=true&page_number=3&limit=6&action=down&after_id=11&ad_interval=-1'\n",
    "headers = {'user-agent':'chrome',\n",
    "           'cookie':r'_xsrf=nbRa3XJ4yDWNOHl2a7SQ5t6iNDCGzc9r; _zap=2dc04c7f-e207-4a35-9322-1821274123b5; d_c0=\"AAAgzAX3qQ-PTpjHoJ0_DUJoMSmjKvJkfoc=|1561884191\"; _ga=GA1.2.1604281372.1582640546; z_c0=\"2|1:0|10:1587652475|4:z_c0|92:Mi4xb0ttYkFBQUFBQUFBQUNETUJmZXBEeVlBQUFCZ0FsVk5lX1dPWHdBMUZmOFpjTjFiUWhvdGJoeWQwTVNUZzF0eV93|b12bab93d3c05b9ca8204634b3b4809d874749781375917a205b739d937909b5\"; tst=h; tshl=; q_c1=cb808145f4864a9594254cfcf18da12f|1592719505000|1566063004000; _gid=GA1.2.1027747449.1593788853; Hm_lvt_98beee57fd2ef70ccdd5ca52b9740c49=1593691006,1593694566,1593788853,1593793213; Hm_lpvt_98beee57fd2ef70ccdd5ca52b9740c49=1593793213; SESSIONID=XHmpomts1IkvhYjhnTFMllM2tfPM6wWdFvANHLMLR1J; JOID=W1AXB0tQdHlIP7JXcF0sr3ttzdpqCTYSPFneKQVoPBg4U-I8Ep4ihBs3uVtyZ3iiZ8lFs8iLKWqxXRfqhHdSRnw=; osd=U18cC0tYe3JEP7pYe1Esp3RmwdpiBj0ePFHRIgloNBczX-I0HZUuhBM4sldyb3epa8lNvMOHKWK-VhvqjHhZSnw=; KLBRSID=cdfcc1d45d024a211bb7144f66bda2cf|1593793360|1593793219'\n",
    "          }\n",
    "r = requests.get(url, headers=headers)\n",
    "data = r.json()\n",
    "items = data['data']\n",
    "\n",
    "with open('zhihu.csv', 'w', encoding='utf-8') as f:\n",
    "    f_csv = csv.writer(f)\n",
    "    \n",
    "    for item in items:\n",
    "        target = item['target']\n",
    "        target_type = target['type']\n",
    "        print(target_type)\n",
    "\n",
    "        if target_type == 'article':\n",
    "            line = [\n",
    "                'article', item.get('id'), item.get('action_text'),\n",
    "                target.get('id'), target.get('voteup_count'), target.get('comment_count'),\n",
    "                target.get('title'), target.get('visited_count'), target.get('created') # 文章题目（文章没有感谢数），文章观看数，文章创建时间\n",
    "            ]\n",
    "        elif target_type == 'answer':\n",
    "            question = target['question']\n",
    "            line = [\n",
    "                'article', item.get('id'), item.get('action_text'),\n",
    "                target.get('id'), target.get('voteup_count'), target.get('comment_count'),  # 文章 id，文章点赞数，文章评论数 \n",
    "                target.get('thanks_count'), target.get('visited_count'), target.get('created_time'),\n",
    "                # 回答感谢数，回答观看数，回答创建时间\n",
    "                question.get('id'), question.get('title'), question.get('answer_count'),  # 问题id，问题题目，问题回答数\n",
    "                question.get('follower_count'), question.get('comment_count'), question.get('created')  # 问题关注数，评论数，创建时间                \n",
    "            ]\n",
    "        else:\n",
    "            continue\n",
    "        print(line[2])\n",
    "        f_csv.writerow(line)\n",
    "print('写入完成')"
   ]
  },
  {
   "cell_type": "code",
   "execution_count": null,
   "metadata": {},
   "outputs": [],
   "source": []
  },
  {
   "cell_type": "code",
   "execution_count": 9,
   "metadata": {},
   "outputs": [
    {
     "name": "stdout",
     "output_type": "stream",
     "text": [
      "12_1593940306.633\n",
      "13_1593940306.83\n",
      "14_1593940306.402\n",
      "15_1593940306.28\n",
      "16_1593940306.930\n",
      "17_1593940306.239\n"
     ]
    }
   ],
   "source": [
    "res = []\n",
    "contents = text['data']\n",
    "for i in range(len(contents)):\n",
    "    item = contents[i]\n",
    "#     print(item)\n",
    "    id = item['id']\n",
    "    print(id)\n",
    "#     try:\n",
    "#         title = item['target']['title']\n",
    "#         content = item['target']['content']\n",
    "#     except:\n",
    "#         print(item['target'])\n",
    "#     print(title, '...', content)\n",
    "#     res.extend([id, title, content])"
   ]
  },
  {
   "cell_type": "code",
   "execution_count": 32,
   "metadata": {},
   "outputs": [
    {
     "data": {
      "text/plain": [
       "'https://www.zhihu.com/api/v3/feed/topstory/recommend?session_token=99930a90644a5bdb148d93b938e7db3b&desktop=true&page_number=4&limit=6&action=down&after_id=17&ad_interval=-1'"
      ]
     },
     "execution_count": 32,
     "metadata": {},
     "output_type": "execute_result"
    }
   ],
   "source": [
    "'https://www.zhihu.com/api/v3/feed/topstory/recommend?session_token=99930a90644a5bdb148d93b938e7db3b&desktop=true&page_number=3&limit=6&action=down&after_id=11&ad_interval=-1'\n",
    "'https://www.zhihu.com/api/v3/feed/topstory/recommend?session_token=99930a90644a5bdb148d93b938e7db3b&desktop=true&page_number=4&limit=6&action=down&after_id=17&ad_interval=-1'"
   ]
  },
  {
   "cell_type": "code",
   "execution_count": null,
   "metadata": {},
   "outputs": [],
   "source": []
  },
  {
   "cell_type": "code",
   "execution_count": null,
   "metadata": {},
   "outputs": [],
   "source": []
  }
 ],
 "metadata": {
  "kernelspec": {
   "display_name": "Python 3",
   "language": "python",
   "name": "python3"
  },
  "language_info": {
   "codemirror_mode": {
    "name": "ipython",
    "version": 3
   },
   "file_extension": ".py",
   "mimetype": "text/x-python",
   "name": "python",
   "nbconvert_exporter": "python",
   "pygments_lexer": "ipython3",
   "version": "3.7.7"
  },
  "toc": {
   "base_numbering": 1,
   "nav_menu": {},
   "number_sections": true,
   "sideBar": true,
   "skip_h1_title": false,
   "title_cell": "Table of Contents",
   "title_sidebar": "Contents",
   "toc_cell": false,
   "toc_position": {
    "height": "calc(100% - 180px)",
    "left": "10px",
    "top": "150px",
    "width": "384px"
   },
   "toc_section_display": true,
   "toc_window_display": true
  }
 },
 "nbformat": 4,
 "nbformat_minor": 4
}

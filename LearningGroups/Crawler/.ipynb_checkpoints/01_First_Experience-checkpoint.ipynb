{
 "cells": [
  {
   "cell_type": "code",
   "execution_count": null,
   "metadata": {},
   "outputs": [],
   "source": [
    "import requests\n",
    "\n",
    "while True:\n",
    "    city = input('请输入城市，回车退出:\\n')\n",
    "    if city == '':\n",
    "        break\n",
    "    try:\n",
    "        url = 'http://wthrcdn.etouch.cn/weather_mini?city=%s' % city\n",
    "        r = requests.get(url)\n",
    "        text = r.json()\n",
    "        res = text['data']['forecast'][0]\n",
    "        print(res['date'], '\\n', res['high'], '\\n', res['low'], '\\n', res['type'])\n",
    "    except:\n",
    "        print('未获得')\n"
   ]
  },
  {
   "cell_type": "code",
   "execution_count": null,
   "metadata": {},
   "outputs": [],
   "source": []
  }
 ],
 "metadata": {
  "kernelspec": {
   "display_name": "Python 3",
   "language": "python",
   "name": "python3"
  },
  "language_info": {
   "codemirror_mode": {
    "name": "ipython",
    "version": 3
   },
   "file_extension": ".py",
   "mimetype": "text/x-python",
   "name": "python",
   "nbconvert_exporter": "python",
   "pygments_lexer": "ipython3",
   "version": "3.7.7"
  },
  "toc": {
   "base_numbering": 1,
   "nav_menu": {},
   "number_sections": true,
   "sideBar": true,
   "skip_h1_title": false,
   "title_cell": "Table of Contents",
   "title_sidebar": "Contents",
   "toc_cell": false,
   "toc_position": {},
   "toc_section_display": true,
   "toc_window_display": false
  }
 },
 "nbformat": 4,
 "nbformat_minor": 4
}

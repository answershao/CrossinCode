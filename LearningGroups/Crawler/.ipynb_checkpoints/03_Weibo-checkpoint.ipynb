{
 "cells": [
  {
   "cell_type": "markdown",
   "metadata": {},
   "source": [
    "### 抓取 微博热点 页面并保存为本地的 HTML 页面"
   ]
  },
  {
   "cell_type": "code",
   "execution_count": 1,
   "metadata": {},
   "outputs": [
    {
     "data": {
      "text/plain": [
       "'https://weibo.com/a/hot/realtime'"
      ]
     },
     "execution_count": 1,
     "metadata": {},
     "output_type": "execute_result"
    }
   ],
   "source": [
    "'https://weibo.com/a/hot/realtime'"
   ]
  },
  {
   "cell_type": "code",
   "execution_count": 19,
   "metadata": {},
   "outputs": [],
   "source": [
    "import requests\n",
    "\n",
    "# url = 'https://weibo.com/a/hot/realtime'\n",
    "headers = {'user-agent':'chrome'}\n",
    "# cookies = \n",
    "r = requests.get(url, headers=headers)\n",
    "text = r.json()"
   ]
  },
  {
   "cell_type": "code",
   "execution_count": 20,
   "metadata": {},
   "outputs": [
    {
     "data": {
      "text/plain": [
       "{'rating': {'max': 10, 'average': '9.7', 'numRaters': 2063031, 'min': 0},\n",
       " 'author': [{'name': '弗兰克·德拉邦特 Frank Darabont'}],\n",
       " 'alt_title': '肖申克的救赎 / 月黑高飞(港)',\n",
       " 'image': 'https://img3.doubanio.com/view/photo/s_ratio_poster/public/p480747492.jpg',\n",
       " 'title': 'The Shawshank Redemption',\n",
       " 'summary': '20世纪40年代末，小有成就的青年银行家安迪（蒂姆·罗宾斯 Tim Robbins 饰）因涉嫌杀害妻子及她的情人而锒铛入狱。在这座名为鲨堡的监狱内，希望似乎虚无缥缈，终身监禁的惩罚无疑注定了安迪接下来灰暗绝望的人生。未过多久，安迪尝试接近囚犯中颇有声望的瑞德（摩根·弗 里曼 Morgan Freeman 饰），请求对方帮自己搞来小锤子。以此为契机，二人逐渐熟稔，安迪也仿佛在鱼龙混杂、罪恶横生、黑白混淆的牢狱中找到属于自己的求生之道。他利用自身的专业知识，帮助监狱管理层逃税、洗黑钱，同时凭借与瑞德的交往在犯人中间也渐渐受到礼遇。表面看来，他已如瑞德那样对那堵高墙从憎恨转变为处之泰然，但是对自由的渴望仍促使他朝着心中的希望和目标前进。而关于其罪行的真相，似乎更使这一切朝前推进了一步……\\n本片根据著名作家斯蒂芬·金（Stephen Edwin King）的原著改编。',\n",
       " 'attrs': {'pubdate': ['1994-09-10(多伦多电影节)', '1994-10-14(美国)'],\n",
       "  'language': ['英语'],\n",
       "  'title': ['The Shawshank Redemption'],\n",
       "  'country': ['美国'],\n",
       "  'writer': ['弗兰克·德拉邦特 Frank Darabont', '斯蒂芬·金 Stephen King'],\n",
       "  'director': ['弗兰克·德拉邦特 Frank Darabont'],\n",
       "  'cast': ['蒂姆·罗宾斯 Tim Robbins',\n",
       "   '摩根·弗里曼 Morgan Freeman',\n",
       "   '鲍勃·冈顿 Bob Gunton',\n",
       "   '威廉姆·赛德勒 William Sadler',\n",
       "   '克兰西·布朗 Clancy Brown',\n",
       "   '吉尔·贝罗斯 Gil Bellows',\n",
       "   '马克·罗斯顿 Mark Rolston',\n",
       "   '詹姆斯·惠特摩 James Whitmore',\n",
       "   '杰弗里·德曼 Jeffrey DeMunn',\n",
       "   '拉里·布兰登伯格 Larry Brandenburg',\n",
       "   '尼尔·吉恩托利 Neil Giuntoli',\n",
       "   '布赖恩·利比 Brian Libby',\n",
       "   '大卫·普罗瓦尔 David Proval',\n",
       "   '约瑟夫·劳格诺 Joseph Ragno',\n",
       "   '祖德·塞克利拉 Jude Ciccolella',\n",
       "   '保罗·麦克兰尼 Paul McCrane',\n",
       "   '芮妮·布莱恩 Renee Blaine',\n",
       "   '阿方索·弗里曼 Alfonso Freeman',\n",
       "   'V·J·福斯特 V.J. Foster',\n",
       "   '弗兰克·梅德拉诺 Frank Medrano',\n",
       "   '马克·迈尔斯 Mack Miles',\n",
       "   '尼尔·萨默斯 Neil Summers',\n",
       "   '耐德·巴拉米 Ned Bellamy',\n",
       "   '布赖恩·戴拉特 Brian Delate',\n",
       "   '唐·麦克马纳斯 Don McManus'],\n",
       "  'movie_duration': ['142分钟'],\n",
       "  'year': ['1994'],\n",
       "  'movie_type': ['犯罪', '剧情']},\n",
       " 'id': 'https://api.douban.com/movie/1292052',\n",
       " 'mobile_link': 'https://m.douban.com/movie/subject/1292052/',\n",
       " 'alt': 'https://movie.douban.com/movie/1292052',\n",
       " 'tags': [{'count': 347829, 'name': '经典'},\n",
       "  {'count': 323423, 'name': '励志'},\n",
       "  {'count': 308848, 'name': '信念'},\n",
       "  {'count': 298050, 'name': '自由'},\n",
       "  {'count': 216818, 'name': '人性'},\n",
       "  {'count': 197939, 'name': '人生'},\n",
       "  {'count': 170174, 'name': '美国'},\n",
       "  {'count': 155875, 'name': '希望'}]}"
      ]
     },
     "execution_count": 20,
     "metadata": {},
     "output_type": "execute_result"
    }
   ],
   "source": [
    "text"
   ]
  },
  {
   "cell_type": "code",
   "execution_count": null,
   "metadata": {},
   "outputs": [],
   "source": []
  }
 ],
 "metadata": {
  "kernelspec": {
   "display_name": "Python 3",
   "language": "python",
   "name": "python3"
  },
  "language_info": {
   "codemirror_mode": {
    "name": "ipython",
    "version": 3
   },
   "file_extension": ".py",
   "mimetype": "text/x-python",
   "name": "python",
   "nbconvert_exporter": "python",
   "pygments_lexer": "ipython3",
   "version": "3.7.7"
  },
  "toc": {
   "base_numbering": 1,
   "nav_menu": {},
   "number_sections": true,
   "sideBar": true,
   "skip_h1_title": false,
   "title_cell": "Table of Contents",
   "title_sidebar": "Contents",
   "toc_cell": false,
   "toc_position": {},
   "toc_section_display": true,
   "toc_window_display": false
  }
 },
 "nbformat": 4,
 "nbformat_minor": 4
}

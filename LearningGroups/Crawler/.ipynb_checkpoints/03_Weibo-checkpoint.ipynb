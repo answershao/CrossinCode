{
 "cells": [
  {
   "cell_type": "markdown",
   "metadata": {},
   "source": [
    "### 抓取 微博热点 页面并保存为本地的 HTML 页面"
   ]
  },
  {
   "cell_type": "code",
   "execution_count": 1,
   "metadata": {},
   "outputs": [
    {
     "data": {
      "text/plain": [
       "'https://weibo.com/a/hot/realtime'"
      ]
     },
     "execution_count": 1,
     "metadata": {},
     "output_type": "execute_result"
    }
   ],
   "source": [
    "'https://weibo.com/a/hot/realtime'"
   ]
  },
  {
   "cell_type": "code",
   "execution_count": 40,
   "metadata": {},
   "outputs": [
    {
     "name": "stdout",
     "output_type": "stream",
     "text": [
      "保存微博热搜网页\n"
     ]
    },
    {
     "data": {
      "text/plain": [
       "'打开网页好慢啊！'"
      ]
     },
     "execution_count": 40,
     "metadata": {},
     "output_type": "execute_result"
    }
   ],
   "source": [
    "import requests\n",
    "\n",
    "url = 'https://weibo.com/a/hot/realtime'\n",
    "headers = {'user-agent':'chrome', \n",
    "           'cookie':\"login_sid_t=e61def7f02a13f2e82f8e3d451b89fc1; cross_origin_proto=SSL; Ugrow-G0=1ac418838b431e81ff2d99457147068c; _s_tentry=-; Apache=7391734012277.347.1561885466767; SINAGLOBAL=7391734012277.347.1561885466767; TC-V5-G0=4de7df00d4dc12eb0897c97413797808; TC-Page-G0=8afba920d7357d92ddd447eac7e1ec5c|1571548244|1571548244; YF-V5-G0=27518b2dd3c605fe277ffc0b4f0575b3; SUB=_2AkMpO-EEf8NxqwJRmP0Rzm7mbItyyQzEieKfZxDfJRMxHRl-yT9kqhQStRB6ArvP62o9iF6BRiYQpG6BIB_yYSJYQY6u; SUBP=0033WrSXqPxfM72-Ws9jqgMF55529P9D9W56CWzlGb4vCGmX6DhDS_6S; YF-Page-G0=7686d2f6fc16217b2faba27749c40597|1584369844|1584369844; UOR=,,tushare.org; ULV=1593690447534:1:1:1:7391734012277.347.1561885466767:; WBStorage=42212210b087ca50|undefined\"}\n",
    "try:\n",
    "    r = requests.get(url, headers=headers)\n",
    "    html = r.content\n",
    "except:\n",
    "    print('获取信息失败')\n",
    "\n",
    "print('保存微博热搜网页')\n",
    "with open('weibo.html', 'wb') as f:\n",
    "    f.write(html)\n",
    "    \n",
    "'打开网页好慢啊！'"
   ]
  },
  {
   "cell_type": "code",
   "execution_count": null,
   "metadata": {},
   "outputs": [],
   "source": []
  },
  {
   "cell_type": "code",
   "execution_count": null,
   "metadata": {},
   "outputs": [],
   "source": []
  }
 ],
 "metadata": {
  "kernelspec": {
   "display_name": "Python 3",
   "language": "python",
   "name": "python3"
  },
  "language_info": {
   "codemirror_mode": {
    "name": "ipython",
    "version": 3
   },
   "file_extension": ".py",
   "mimetype": "text/x-python",
   "name": "python",
   "nbconvert_exporter": "python",
   "pygments_lexer": "ipython3",
   "version": "3.7.7"
  },
  "toc": {
   "base_numbering": 1,
   "nav_menu": {},
   "number_sections": true,
   "sideBar": true,
   "skip_h1_title": false,
   "title_cell": "Table of Contents",
   "title_sidebar": "Contents",
   "toc_cell": false,
   "toc_position": {},
   "toc_section_display": true,
   "toc_window_display": false
  }
 },
 "nbformat": 4,
 "nbformat_minor": 4
}

{
 "cells": [
  {
   "cell_type": "code",
   "execution_count": 1,
   "metadata": {},
   "outputs": [
    {
     "name": "stdout",
     "output_type": "stream",
     "text": [
      "请输入城市，回车退出: \n",
      "北京\n",
      "{'data': {'yesterday': {'date': '4日星期六', 'high': '高温 29℃', 'fx': '西南风', 'low': '低温 21℃', 'fl': '<![CDATA[2级]]>', 'type': '多云'}, 'city': '北京', 'forecast': [{'date': '5日星期天', 'high': '高温 30℃', 'fengli': '<![CDATA[2级]]>', 'low': '低温 23℃', 'fengxiang': '北风', 'type': '雷阵雨'}, {'date': '6日星期一', 'high': '高温 31℃', 'fengli': '<![CDATA[2级]]>', 'low': '低温 21℃', 'fengxiang': '北风', 'type': '多云'}, {'date': '7日星期二', 'high': '高温 32℃', 'fengli': '<![CDATA[2级]]>', 'low': '低温 21℃', 'fengxiang': '东风', 'type': '多云'}, {'date': '8日星期三', 'high': '高温 31℃', 'fengli': '<![CDATA[3级]]>', 'low': '低温 23℃', 'fengxiang': '南风', 'type': '雷阵雨'}, {'date': '9日星期四', 'high': '高温 28℃', 'fengli': '<![CDATA[1级]]>', 'low': '低温 22℃', 'fengxiang': '东南风', 'type': '雷阵雨'}], 'ganmao': '感冒低发期，天气舒适，请注意多吃蔬菜水果，多喝水哦。', 'wendu': '29'}, 'status': 1000, 'desc': 'OK'}\n",
      "5日星期天 \n",
      " 高温 30℃ \n",
      " 低温 23℃ \n",
      " 雷阵雨\n",
      "请输入城市，回车退出: \n",
      "\n"
     ]
    }
   ],
   "source": [
    "import requests\n",
    "\n",
    "while True:\n",
    "    city = input('请输入城市，回车退出: \\n')\n",
    "    if city == '':\n",
    "        break\n",
    "    try:\n",
    "        url = 'http://wthrcdn.etouch.cn/weather_mini?city=%s' % city\n",
    "        r = requests.get(url)\n",
    "        text = r.json()\n",
    "        res = text['data']['forecast'][0]\n",
    "        print(res['date'], '\\n', res['high'], '\\n', res['low'], '\\n', res['type'])\n",
    "    except:\n",
    "        print('未获得')\n"
   ]
  },
  {
   "cell_type": "code",
   "execution_count": null,
   "metadata": {},
   "outputs": [],
   "source": []
  }
 ],
 "metadata": {
  "kernelspec": {
   "display_name": "Python 3",
   "language": "python",
   "name": "python3"
  },
  "language_info": {
   "codemirror_mode": {
    "name": "ipython",
    "version": 3
   },
   "file_extension": ".py",
   "mimetype": "text/x-python",
   "name": "python",
   "nbconvert_exporter": "python",
   "pygments_lexer": "ipython3",
   "version": "3.7.7"
  },
  "toc": {
   "base_numbering": 1,
   "nav_menu": {},
   "number_sections": true,
   "sideBar": true,
   "skip_h1_title": false,
   "title_cell": "Table of Contents",
   "title_sidebar": "Contents",
   "toc_cell": false,
   "toc_position": {},
   "toc_section_display": true,
   "toc_window_display": false
  }
 },
 "nbformat": 4,
 "nbformat_minor": 4
}

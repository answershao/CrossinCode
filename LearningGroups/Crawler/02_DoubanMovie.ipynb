{
 "cells": [
  {
   "cell_type": "markdown",
   "metadata": {},
   "source": [
    "### 利用豆瓣 api 接口，获得电影 “肖申克的救赎”的电影海报 url 地址，下载电影海报到本地；"
   ]
  },
  {
   "cell_type": "code",
   "execution_count": 2,
   "metadata": {},
   "outputs": [
    {
     "data": {
      "text/plain": [
       "'https://api.douban.com/v2/movie/1292052?apikey=0df993c66c0c636e29ecbb5344252a4a'"
      ]
     },
     "execution_count": 2,
     "metadata": {},
     "output_type": "execute_result"
    }
   ],
   "source": [
    "'https://api.douban.com/v2/movie/1292052?apikey=0df993c66c0c636e29ecbb5344252a4a'"
   ]
  },
  {
   "cell_type": "code",
   "execution_count": 65,
   "metadata": {},
   "outputs": [],
   "source": [
    "import requests\n",
    "\n",
    "url = 'https://api.douban.com/v2/movie/1292052?apikey=0df993c66c0c636e29ecbb5344252a4a'\n",
    "r = requests.get(url, headers={'user-agent':'chrome'})\n",
    "text = r.json()\n",
    "url_image = text['image']"
   ]
  },
  {
   "cell_type": "code",
   "execution_count": 66,
   "metadata": {},
   "outputs": [],
   "source": [
    "r = requests.get(url_image)\n",
    "assert r.status_code == 200\n",
    "img = r.content  # 原始的二进制\n",
    "with open('pic.png', 'wb') as f:\n",
    "    f.write(img)"
   ]
  },
  {
   "cell_type": "markdown",
   "metadata": {},
   "source": [
    "###  利用豆瓣电影 top 250 的 api 接口，批量获取250部电影的电影名、主演、评分等数据，保存数据到本地 csv 文件；"
   ]
  },
  {
   "cell_type": "code",
   "execution_count": 32,
   "metadata": {},
   "outputs": [
    {
     "data": {
      "text/plain": [
       "'https://api.douban.com/v2/movie/top250?start=0&apikey=0df993c66c0c636e29ecbb5344252a4a'"
      ]
     },
     "execution_count": 32,
     "metadata": {},
     "output_type": "execute_result"
    }
   ],
   "source": [
    "'https://api.douban.com/v2/movie/top250?start=0&apikey=0df993c66c0c636e29ecbb5344252a4a'"
   ]
  },
  {
   "cell_type": "code",
   "execution_count": 64,
   "metadata": {},
   "outputs": [
    {
     "name": "stdout",
     "output_type": "stream",
     "text": [
      "[['1292052', '肖申克的救赎', '蒂姆·罗宾斯,摩根·弗里曼,鲍勃·冈顿', 9.7, 'https://movie.douban.com/subject/1292052/']]\n"
     ]
    }
   ],
   "source": [
    "import requests\n",
    "import pandas as pd\n",
    "import time\n",
    "'保存豆瓣top_250电影名、主演、评分等数据'\n",
    "\n",
    "# 下载电影海报函数\n",
    "def download_poster(poster_address, movie_title):\n",
    "    try:\n",
    "        r = requests.get(poster_address, headers={'user-agent':'chrome'})\n",
    "        with open('posters/{}.png'.format(movie_title), 'wb') as f:\n",
    "            f.write(r.content)\n",
    "    except:\n",
    "        print('未下载{}'.format(movie_title))\n",
    "\n",
    "top250_info = []\n",
    "for start in range(0, 250, 20):\n",
    "    url = 'https://api.douban.com/v2/movie/top250?start={}&apikey=0df993c66c0c636e29ecbb5344252a4a'.format(start)\n",
    "    r = requests.get(url, headers={'user-agent':'chrome'})\n",
    "    text = r.json()\n",
    "    subject = text['subjects']\n",
    "    for i in range(len(subject)):\n",
    "        print('等待一秒继续下载')\n",
    "        time.sleep(1)\n",
    "        movie = subject[i]\n",
    "        id = movie['id']\n",
    "        title = movie['title']\n",
    "        casts = movie['casts']\n",
    "        temp =[]\n",
    "        for cast in casts:\n",
    "            temp.append(cast['name'])\n",
    "        casts = ','.join(temp)\n",
    "        rating = movie['rating']['average']\n",
    "        alt = movie['alt']\n",
    "        top250_info.append([id, title, casts, rating, alt]) \n",
    "        # 下载 poster\n",
    "        poster_address = movie['images']['small']\n",
    "        download_poster(poster_address, title)\n",
    "print(top250_info[:1])\n",
    "\n",
    "# 保存\n",
    "top250_info = pd.DataFrame(top250_info, columns=['id', 'title', 'casts', 'rating', 'address'])\n",
    "top250_info.to_csv('top250_info.csv', header=True, index=False)"
   ]
  },
  {
   "cell_type": "code",
   "execution_count": null,
   "metadata": {},
   "outputs": [],
   "source": []
  },
  {
   "cell_type": "code",
   "execution_count": 59,
   "metadata": {},
   "outputs": [],
   "source": []
  },
  {
   "cell_type": "code",
   "execution_count": null,
   "metadata": {},
   "outputs": [],
   "source": []
  },
  {
   "cell_type": "code",
   "execution_count": null,
   "metadata": {},
   "outputs": [],
   "source": []
  },
  {
   "cell_type": "code",
   "execution_count": null,
   "metadata": {},
   "outputs": [],
   "source": []
  },
  {
   "cell_type": "code",
   "execution_count": null,
   "metadata": {},
   "outputs": [],
   "source": []
  }
 ],
 "metadata": {
  "kernelspec": {
   "display_name": "Python 3",
   "language": "python",
   "name": "python3"
  },
  "language_info": {
   "codemirror_mode": {
    "name": "ipython",
    "version": 3
   },
   "file_extension": ".py",
   "mimetype": "text/x-python",
   "name": "python",
   "nbconvert_exporter": "python",
   "pygments_lexer": "ipython3",
   "version": "3.7.7"
  },
  "toc": {
   "base_numbering": 1,
   "nav_menu": {},
   "number_sections": true,
   "sideBar": true,
   "skip_h1_title": false,
   "title_cell": "Table of Contents",
   "title_sidebar": "Contents",
   "toc_cell": false,
   "toc_position": {
    "height": "calc(100% - 180px)",
    "left": "10px",
    "top": "150px",
    "width": "384px"
   },
   "toc_section_display": true,
   "toc_window_display": true
  }
 },
 "nbformat": 4,
 "nbformat_minor": 4
}

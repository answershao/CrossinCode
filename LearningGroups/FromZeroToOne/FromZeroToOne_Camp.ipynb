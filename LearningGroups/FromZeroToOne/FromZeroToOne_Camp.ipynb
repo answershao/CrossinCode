{
 "cells": [
  {
   "cell_type": "markdown",
   "metadata": {},
   "source": [
    "# 输入与输出"
   ]
  },
  {
   "cell_type": "code",
   "execution_count": 1,
   "metadata": {},
   "outputs": [
    {
     "name": "stdout",
     "output_type": "stream",
     "text": [
      "Today is saturday\n",
      "Please tell me how the weather today\n",
      "rainy\n",
      "Yes it's rainy\n"
     ]
    }
   ],
   "source": [
    "print('Today is saturday')\n",
    "print('Please tell me how the weather today')\n",
    "input()\n",
    "print(\"Yes it's rainy\")"
   ]
  },
  {
   "cell_type": "markdown",
   "metadata": {},
   "source": [
    "# 变量"
   ]
  },
  {
   "cell_type": "code",
   "execution_count": 2,
   "metadata": {},
   "outputs": [
    {
     "name": "stdout",
     "output_type": "stream",
     "text": [
      "请输入一个数字50\n",
      "你的输入是：50\n"
     ]
    }
   ],
   "source": [
    "num = input('请输入一个数字')\n",
    "print('你的输入是：{}'.format(num))"
   ]
  },
  {
   "cell_type": "code",
   "execution_count": 3,
   "metadata": {},
   "outputs": [
    {
     "name": "stdout",
     "output_type": "stream",
     "text": [
      "90\n"
     ]
    }
   ],
   "source": [
    "money = 20\n",
    "result = money * 2 + 50\n",
    "print(result)"
   ]
  },
  {
   "cell_type": "code",
   "execution_count": 9,
   "metadata": {},
   "outputs": [
    {
     "name": "stdout",
     "output_type": "stream",
     "text": [
      "<class 'str'> <class 'float'> <class 'bool'> <class 'bool'> <class 'bool'>\n"
     ]
    }
   ],
   "source": [
    "a = 'hello,world'\n",
    "b = 1.414\n",
    "c = (1 != 2)\n",
    "d = (True and False)\n",
    "e = (True or False)\n",
    "print(type(a), type(b), type(c), type(d), type(e))"
   ]
  },
  {
   "cell_type": "markdown",
   "metadata": {},
   "source": [
    "# 字符串与类型转换"
   ]
  },
  {
   "cell_type": "code",
   "execution_count": 13,
   "metadata": {},
   "outputs": [
    {
     "name": "stdout",
     "output_type": "stream",
     "text": [
      "Crossin is 18, he writes Python\n"
     ]
    }
   ],
   "source": [
    "name = 'Crossin'\n",
    "age = 18\n",
    "code = 'Python'\n",
    "result = name + ' is ' + str(age) + ', he writes ' + code\n",
    "print(result)"
   ]
  },
  {
   "cell_type": "code",
   "execution_count": 14,
   "metadata": {},
   "outputs": [
    {
     "name": "stdout",
     "output_type": "stream",
     "text": [
      "5.8\n"
     ]
    }
   ],
   "source": [
    "num1 = '3.3'\n",
    "num2 = 2.5\n",
    "num1 = float(num1)\n",
    "print(num1 + num2)"
   ]
  },
  {
   "cell_type": "code",
   "execution_count": 26,
   "metadata": {},
   "outputs": [
    {
     "data": {
      "text/plain": [
       "True"
      ]
     },
     "execution_count": 26,
     "metadata": {},
     "output_type": "execute_result"
    }
   ],
   "source": [
    "bool(-123)\n",
    "bool(0)\n",
    "bool('abc')\n",
    "bool('False')\n",
    "bool('')\n",
    "bool([])\n",
    "bool({})\n",
    "bool([''])\n",
    "bool(None)"
   ]
  },
  {
   "cell_type": "markdown",
   "metadata": {},
   "source": [
    "# IF"
   ]
  },
  {
   "cell_type": "code",
   "execution_count": 11,
   "metadata": {},
   "outputs": [
    {
     "name": "stdout",
     "output_type": "stream",
     "text": [
      "poor\n"
     ]
    }
   ],
   "source": [
    "# if 条件判断\n",
    "money = 88\n",
    "if money > 100:\n",
    "    print(\"rich\")\n",
    "else:\n",
    "    print(\"poor\")"
   ]
  },
  {
   "cell_type": "code",
   "execution_count": 12,
   "metadata": {},
   "outputs": [
    {
     "name": "stdout",
     "output_type": "stream",
     "text": [
      "True\n",
      "False\n",
      "请输入内容4\n",
      "True\n",
      "False\n",
      "True\n",
      "False\n",
      "True\n",
      "False\n",
      "True\n",
      "False\n"
     ]
    }
   ],
   "source": [
    "# 逻辑判断\n",
    "# a\n",
    "bingo = False\n",
    "if bingo == False:\n",
    "    print(True)\n",
    "else:\n",
    "    print(False)\n",
    "# b\n",
    "b = 3\n",
    "if b - 3:\n",
    "    print(True)\n",
    "else:\n",
    "    print(False)\n",
    "# c\n",
    "x = input('请输入内容')\n",
    "if x:\n",
    "    print(True)\n",
    "else:\n",
    "    print(False)\n",
    "# d\n",
    "a = True\n",
    "b = not a  # 不记得not请回顾第二课\n",
    "print(b)\n",
    "print(not b)\n",
    "print(a == b)\n",
    "print(a != b)\n",
    "print(a and b)\n",
    "print(a or b)\n",
    "print(1<2 and b==True)"
   ]
  },
  {
   "cell_type": "markdown",
   "metadata": {},
   "source": [
    "## BMI"
   ]
  },
  {
   "cell_type": "code",
   "execution_count": 24,
   "metadata": {},
   "outputs": [
    {
     "name": "stdout",
     "output_type": "stream",
     "text": [
      "Please input your height: (KG)80\n",
      "Please input your weight: (M)1.8\n",
      "不正常\n"
     ]
    }
   ],
   "source": [
    "weight = float(input('Please input your height: (KG)'))\n",
    "height = float(input('Please input your weight: (M)'))\n",
    "BMI = weight/(height*height)\n",
    "if BMI < 18.5 or BMI > 24:\n",
    "    print('不正常')\n",
    "else:\n",
    "    print('正常')"
   ]
  },
  {
   "cell_type": "markdown",
   "metadata": {},
   "source": [
    "# For"
   ]
  },
  {
   "cell_type": "code",
   "execution_count": 30,
   "metadata": {},
   "outputs": [
    {
     "name": "stdout",
     "output_type": "stream",
     "text": [
      "1683\n"
     ]
    }
   ],
   "source": [
    "# 计算100以内所有3的倍数的和（即：计算3、6、9 ... 96、99 的和）\n",
    "s = 0\n",
    "for i in range(0, 100, 3):\n",
    "    s += i\n",
    "print(s)"
   ]
  },
  {
   "cell_type": "code",
   "execution_count": 42,
   "metadata": {},
   "outputs": [
    {
     "name": "stdout",
     "output_type": "stream",
     "text": [
      "Please input height: 2\n",
      "Please input width: 3\n",
      "* * * \n",
      "\n",
      "* * * \n",
      "\n"
     ]
    }
   ],
   "source": [
    "# 分别输入高和宽两个整数，输出对应高度和宽度的矩形\n",
    "height = int(input('Please input height: '))\n",
    "width = int(input('Please input width: '))\n",
    "for i in range(height):\n",
    "    for j in range(width):\n",
    "        print('* ', end=\"\")\n",
    "    print('\\n')"
   ]
  },
  {
   "cell_type": "code",
   "execution_count": 40,
   "metadata": {
    "collapsed": true
   },
   "outputs": [
    {
     "name": "stdout",
     "output_type": "stream",
     "text": [
      "1 x 1 = 1\n",
      "1 x 2 = 2\n",
      "1 x 3 = 3\n",
      "1 x 4 = 4\n",
      "1 x 5 = 5\n",
      "1 x 6 = 6\n",
      "1 x 7 = 7\n",
      "1 x 8 = 8\n",
      "1 x 9 = 9\n",
      "2 x 1 = 2\n",
      "2 x 2 = 4\n",
      "2 x 3 = 6\n",
      "2 x 4 = 8\n",
      "2 x 5 = 10\n",
      "2 x 6 = 12\n",
      "2 x 7 = 14\n",
      "2 x 8 = 16\n",
      "2 x 9 = 18\n",
      "3 x 1 = 3\n",
      "3 x 2 = 6\n",
      "3 x 3 = 9\n",
      "3 x 4 = 12\n",
      "3 x 5 = 15\n",
      "3 x 6 = 18\n",
      "3 x 7 = 21\n",
      "3 x 8 = 24\n",
      "3 x 9 = 27\n",
      "4 x 1 = 4\n",
      "4 x 2 = 8\n",
      "4 x 3 = 12\n",
      "4 x 4 = 16\n",
      "4 x 5 = 20\n",
      "4 x 6 = 24\n",
      "4 x 7 = 28\n",
      "4 x 8 = 32\n",
      "4 x 9 = 36\n",
      "5 x 1 = 5\n",
      "5 x 2 = 10\n",
      "5 x 3 = 15\n",
      "5 x 4 = 20\n",
      "5 x 5 = 25\n",
      "5 x 6 = 30\n",
      "5 x 7 = 35\n",
      "5 x 8 = 40\n",
      "5 x 9 = 45\n",
      "6 x 1 = 6\n",
      "6 x 2 = 12\n",
      "6 x 3 = 18\n",
      "6 x 4 = 24\n",
      "6 x 5 = 30\n",
      "6 x 6 = 36\n",
      "6 x 7 = 42\n",
      "6 x 8 = 48\n",
      "6 x 9 = 54\n",
      "7 x 1 = 7\n",
      "7 x 2 = 14\n",
      "7 x 3 = 21\n",
      "7 x 4 = 28\n",
      "7 x 5 = 35\n",
      "7 x 6 = 42\n",
      "7 x 7 = 49\n",
      "7 x 8 = 56\n",
      "7 x 9 = 63\n",
      "8 x 1 = 8\n",
      "8 x 2 = 16\n",
      "8 x 3 = 24\n",
      "8 x 4 = 32\n",
      "8 x 5 = 40\n",
      "8 x 6 = 48\n",
      "8 x 7 = 56\n",
      "8 x 8 = 64\n",
      "8 x 9 = 72\n",
      "9 x 1 = 9\n",
      "9 x 2 = 18\n",
      "9 x 3 = 27\n",
      "9 x 4 = 36\n",
      "9 x 5 = 45\n",
      "9 x 6 = 54\n",
      "9 x 7 = 63\n",
      "9 x 8 = 72\n",
      "9 x 9 = 81\n"
     ]
    }
   ],
   "source": [
    "# 输出九九乘法口诀表\n",
    "for i in range(1, 10):\n",
    "    for j in range(1, 10):\n",
    "        print('{} x {} = {}'.format(i, j, i * j))"
   ]
  },
  {
   "cell_type": "code",
   "execution_count": 41,
   "metadata": {},
   "outputs": [
    {
     "name": "stdout",
     "output_type": "stream",
     "text": [
      "139\n"
     ]
    }
   ],
   "source": [
    "# 跳出循环\n",
    "nums = [23, 45, 8, 13, 50, 43, 21]\n",
    "# 把 nums 里的值从前向后累加\n",
    "# 当总和超过 100 时则不再继续累加\n",
    "sum = 0\n",
    "for n in nums:\n",
    "    sum += n\n",
    "    if sum > 100:\n",
    "        break\n",
    "print(sum)"
   ]
  },
  {
   "cell_type": "markdown",
   "metadata": {},
   "source": [
    "# while"
   ]
  },
  {
   "cell_type": "markdown",
   "metadata": {},
   "source": [
    "## 猜数字"
   ]
  },
  {
   "cell_type": "code",
   "execution_count": 43,
   "metadata": {},
   "outputs": [
    {
     "name": "stdout",
     "output_type": "stream",
     "text": [
      "Please guess the number what i think50\n",
      "your answer is higher\n",
      "Try again25\n",
      "your answer is lower\n",
      "Try again25\n",
      "your answer is lower\n",
      "Try again35\n",
      "your answer is higher\n",
      "Try again30\n",
      "your answer is lower\n",
      "Try again32\n",
      "Congratulations, you did it\n"
     ]
    }
   ],
   "source": [
    "number = 32\n",
    "guess = int(input('Please guess the number what i think'))\n",
    "while guess != number:\n",
    "    if guess > number:\n",
    "        print('your answer is higher')\n",
    "    else:\n",
    "        print('your answer is lower')\n",
    "    guess = int(input('Try again'))\n",
    "print('Congratulations, you did it')"
   ]
  },
  {
   "cell_type": "markdown",
   "metadata": {},
   "source": [
    "## while , continue"
   ]
  },
  {
   "cell_type": "code",
   "execution_count": 45,
   "metadata": {},
   "outputs": [
    {
     "name": "stdout",
     "output_type": "stream",
     "text": [
      "1\n",
      "2\n",
      "3\n",
      "6\n",
      "7\n",
      "8\n",
      "9\n",
      "10\n",
      "11\n"
     ]
    }
   ],
   "source": [
    "# 输出 1 到 10，但不输出 4 和 5\n",
    "count = 0\n",
    "while count <= 10:\n",
    "    count += 1\n",
    "    if count == 4 or count == 5:\n",
    "        continue\n",
    "    print(count)"
   ]
  },
  {
   "cell_type": "code",
   "execution_count": 47,
   "metadata": {},
   "outputs": [
    {
     "name": "stdout",
     "output_type": "stream",
     "text": [
      "1683\n"
     ]
    }
   ],
   "source": [
    "# 使用 while 计算100以内所有3的倍数的和（即：计算3、6、9 ... 96、99 的和）\n",
    "idx = 0\n",
    "s = 0\n",
    "while idx < 100:\n",
    "    if idx % 3 == 0:\n",
    "        s += idx\n",
    "    idx += 1\n",
    "print(s)"
   ]
  },
  {
   "cell_type": "markdown",
   "metadata": {},
   "source": [
    "# list"
   ]
  },
  {
   "cell_type": "code",
   "execution_count": 49,
   "metadata": {},
   "outputs": [
    {
     "name": "stdout",
     "output_type": "stream",
     "text": [
      "lst中的第一个元素 1\n",
      "[1, 4, 3, 4]\n"
     ]
    }
   ],
   "source": [
    "# 操作列表\n",
    "# 创建一个列表 lst，其中的元素依次是 1，2，3\n",
    "lst = [1,2,3]\n",
    "# 输出 lst 中的第一个元素 1\n",
    "print('lst中的第一个元素', lst[0])\n",
    "#将 lst 的第二个元素 2 改为 4\n",
    "lst[1] = 4\n",
    "# 在 lst 末尾再增加一个元素 5\n",
    "lst.append(4)\n",
    "print(lst)"
   ]
  },
  {
   "cell_type": "code",
   "execution_count": 51,
   "metadata": {},
   "outputs": [
    {
     "name": "stdout",
     "output_type": "stream",
     "text": [
      "['everyday', 0.618, True, 2]\n"
     ]
    }
   ],
   "source": [
    "# 列表切片操作\n",
    "lst = [365, 'everyday', 0.618, True, 2, 5]\n",
    "lst2 = lst[1:-1]\n",
    "print(lst2)"
   ]
  },
  {
   "cell_type": "code",
   "execution_count": 56,
   "metadata": {},
   "outputs": [
    {
     "name": "stdout",
     "output_type": "stream",
     "text": [
      "['I', 'am', 'Mr', 'Crossin', 'of', 'Python']\n",
      "I,am,Mr,Crossin,of,Python\n"
     ]
    }
   ],
   "source": [
    "# 分割与连接字符串\n",
    "word = 'I am Mr Crossin of Python'\n",
    "# 将字符串 word 按照空格分割成一个列表\n",
    "lst = word.split(' ')\n",
    "print(lst)\n",
    "# 再将分割后的列表以逗号(,)重新拼接成字符串\n",
    "word = ','.join(lst)\n",
    "print(word)"
   ]
  },
  {
   "cell_type": "markdown",
   "metadata": {},
   "source": [
    "# 字典"
   ]
  },
  {
   "cell_type": "code",
   "execution_count": 57,
   "metadata": {},
   "outputs": [
    {
     "name": "stdout",
     "output_type": "stream",
     "text": [
      "{'one': 1, 'two': 4, 'three': 3}\n"
     ]
    }
   ],
   "source": [
    "# 字典\n",
    "# 创建一个字典，包含 one、two、three 三个键\n",
    "# 对应的值分别为 1，2，3\n",
    "data = {'one':1,\n",
    "        'two':2,\n",
    "        'three':3\n",
    "}\n",
    "# 将 two 键对应的值改为 4\n",
    "data['two'] = 4\n",
    "print(data)"
   ]
  },
  {
   "cell_type": "code",
   "execution_count": 62,
   "metadata": {},
   "outputs": [
    {
     "name": "stdout",
     "output_type": "stream",
     "text": [
      "{'Beautiful': 1, 'is': 6, 'better': 6, 'than': 6, 'ugly': 1, 'Explicit': 1, 'implicit': 1, 'Simple': 1, 'complex': 1, 'Complex': 1, 'complicated': 1, 'Flat': 1, 'nested': 1, 'Sparse': 1, 'dense': 1}\n"
     ]
    }
   ],
   "source": [
    "# 统计下这段文字里，不同单词出现的次数\n",
    "text = 'Beautiful is better than ugly Explicit is better than implicit Simple is better than complex Complex is better than complicated Flat is better than nested Sparse is better than dense'\n",
    "words = text.split(' ')\n",
    "count = {}\n",
    "for word in words:\n",
    "    if word not in count:\n",
    "        count[word] = 1\n",
    "    else:\n",
    "        count[word] += 1\n",
    "print(count)"
   ]
  },
  {
   "cell_type": "markdown",
   "metadata": {},
   "source": [
    "# 模块"
   ]
  },
  {
   "cell_type": "markdown",
   "metadata": {},
   "source": [
    "## 引入模块"
   ]
  },
  {
   "cell_type": "code",
   "execution_count": 63,
   "metadata": {},
   "outputs": [],
   "source": [
    "import random"
   ]
  },
  {
   "cell_type": "code",
   "execution_count": 64,
   "metadata": {},
   "outputs": [
    {
     "data": {
      "text/plain": [
       "8"
      ]
     },
     "execution_count": 64,
     "metadata": {},
     "output_type": "execute_result"
    }
   ],
   "source": [
    "random.randint(1,10)"
   ]
  },
  {
   "cell_type": "code",
   "execution_count": 65,
   "metadata": {},
   "outputs": [
    {
     "data": {
      "text/plain": [
       "5"
      ]
     },
     "execution_count": 65,
     "metadata": {},
     "output_type": "execute_result"
    }
   ],
   "source": [
    "random.choice([1,3,5])"
   ]
  },
  {
   "cell_type": "code",
   "execution_count": 66,
   "metadata": {},
   "outputs": [
    {
     "data": {
      "text/plain": [
       "['BPF',\n",
       " 'LOG4',\n",
       " 'NV_MAGICCONST',\n",
       " 'RECIP_BPF',\n",
       " 'Random',\n",
       " 'SG_MAGICCONST',\n",
       " 'SystemRandom',\n",
       " 'TWOPI',\n",
       " '_BuiltinMethodType',\n",
       " '_MethodType',\n",
       " '_Sequence',\n",
       " '_Set',\n",
       " '__all__',\n",
       " '__builtins__',\n",
       " '__cached__',\n",
       " '__doc__',\n",
       " '__file__',\n",
       " '__loader__',\n",
       " '__name__',\n",
       " '__package__',\n",
       " '__spec__',\n",
       " '_acos',\n",
       " '_bisect',\n",
       " '_ceil',\n",
       " '_cos',\n",
       " '_e',\n",
       " '_exp',\n",
       " '_inst',\n",
       " '_itertools',\n",
       " '_log',\n",
       " '_os',\n",
       " '_pi',\n",
       " '_random',\n",
       " '_sha512',\n",
       " '_sin',\n",
       " '_sqrt',\n",
       " '_test',\n",
       " '_test_generator',\n",
       " '_urandom',\n",
       " '_warn',\n",
       " 'betavariate',\n",
       " 'choice',\n",
       " 'choices',\n",
       " 'expovariate',\n",
       " 'gammavariate',\n",
       " 'gauss',\n",
       " 'getrandbits',\n",
       " 'getstate',\n",
       " 'lognormvariate',\n",
       " 'normalvariate',\n",
       " 'paretovariate',\n",
       " 'randint',\n",
       " 'random',\n",
       " 'randrange',\n",
       " 'sample',\n",
       " 'seed',\n",
       " 'setstate',\n",
       " 'shuffle',\n",
       " 'triangular',\n",
       " 'uniform',\n",
       " 'vonmisesvariate',\n",
       " 'weibullvariate']"
      ]
     },
     "execution_count": 66,
     "metadata": {},
     "output_type": "execute_result"
    }
   ],
   "source": [
    "dir(random)"
   ]
  },
  {
   "cell_type": "code",
   "execution_count": 67,
   "metadata": {},
   "outputs": [
    {
     "name": "stdout",
     "output_type": "stream",
     "text": [
      "3.141592653589793\n"
     ]
    }
   ],
   "source": [
    "from math import pi\n",
    "print(pi)"
   ]
  },
  {
   "cell_type": "code",
   "execution_count": 69,
   "metadata": {},
   "outputs": [
    {
     "name": "stdout",
     "output_type": "stream",
     "text": [
      "3.141592653589793\n"
     ]
    }
   ],
   "source": [
    "from math import pi as math_pi\n",
    "print(math_pi)"
   ]
  },
  {
   "cell_type": "markdown",
   "metadata": {},
   "source": [
    "## random 模块"
   ]
  },
  {
   "cell_type": "code",
   "execution_count": 70,
   "metadata": {},
   "outputs": [],
   "source": [
    "from random import randint"
   ]
  },
  {
   "cell_type": "code",
   "execution_count": 72,
   "metadata": {},
   "outputs": [
    {
     "data": {
      "text/plain": [
       "6"
      ]
     },
     "execution_count": 72,
     "metadata": {},
     "output_type": "execute_result"
    }
   ],
   "source": [
    "randint(5, 10)"
   ]
  },
  {
   "cell_type": "code",
   "execution_count": 73,
   "metadata": {},
   "outputs": [
    {
     "data": {
      "text/plain": [
       "2.861795890896837"
      ]
     },
     "execution_count": 73,
     "metadata": {},
     "output_type": "execute_result"
    }
   ],
   "source": [
    "random.uniform(1.5, 3)"
   ]
  },
  {
   "cell_type": "code",
   "execution_count": 75,
   "metadata": {},
   "outputs": [
    {
     "data": {
      "text/plain": [
       "2.1270274785274417"
      ]
     },
     "execution_count": 75,
     "metadata": {},
     "output_type": "execute_result"
    }
   ],
   "source": [
    "random.uniform(3, 1.5)"
   ]
  },
  {
   "cell_type": "code",
   "execution_count": 80,
   "metadata": {},
   "outputs": [
    {
     "data": {
      "text/plain": [
       "7"
      ]
     },
     "execution_count": 80,
     "metadata": {},
     "output_type": "execute_result"
    }
   ],
   "source": [
    "random.randrange(1, 9, 2)"
   ]
  },
  {
   "cell_type": "code",
   "execution_count": 81,
   "metadata": {},
   "outputs": [
    {
     "data": {
      "text/plain": [
       "[3, 4]"
      ]
     },
     "execution_count": 81,
     "metadata": {},
     "output_type": "execute_result"
    }
   ],
   "source": [
    "random.sample([1,2,3,4], 2)"
   ]
  },
  {
   "cell_type": "code",
   "execution_count": 82,
   "metadata": {},
   "outputs": [],
   "source": [
    "random.shuffle([1,2,3,4,5])"
   ]
  },
  {
   "cell_type": "markdown",
   "metadata": {},
   "source": [
    "## math"
   ]
  },
  {
   "cell_type": "code",
   "execution_count": 83,
   "metadata": {},
   "outputs": [],
   "source": [
    "import math"
   ]
  },
  {
   "cell_type": "code",
   "execution_count": 84,
   "metadata": {},
   "outputs": [
    {
     "data": {
      "text/plain": [
       "3.141592653589793"
      ]
     },
     "execution_count": 84,
     "metadata": {},
     "output_type": "execute_result"
    }
   ],
   "source": [
    "math.pi"
   ]
  },
  {
   "cell_type": "code",
   "execution_count": 85,
   "metadata": {},
   "outputs": [
    {
     "data": {
      "text/plain": [
       "2.718281828459045"
      ]
     },
     "execution_count": 85,
     "metadata": {},
     "output_type": "execute_result"
    }
   ],
   "source": [
    "math.e"
   ]
  },
  {
   "cell_type": "markdown",
   "metadata": {},
   "source": [
    "### 数值运算"
   ]
  },
  {
   "cell_type": "code",
   "execution_count": 86,
   "metadata": {},
   "outputs": [
    {
     "data": {
      "text/plain": [
       "2"
      ]
     },
     "execution_count": 86,
     "metadata": {},
     "output_type": "execute_result"
    }
   ],
   "source": [
    "math.ceil(1.4)"
   ]
  },
  {
   "cell_type": "code",
   "execution_count": 87,
   "metadata": {},
   "outputs": [
    {
     "data": {
      "text/plain": [
       "1"
      ]
     },
     "execution_count": 87,
     "metadata": {},
     "output_type": "execute_result"
    }
   ],
   "source": [
    "math.floor(1.4)"
   ]
  },
  {
   "cell_type": "code",
   "execution_count": 88,
   "metadata": {},
   "outputs": [
    {
     "data": {
      "text/plain": [
       "9.0"
      ]
     },
     "execution_count": 88,
     "metadata": {},
     "output_type": "execute_result"
    }
   ],
   "source": [
    "math.pow(3,2)"
   ]
  },
  {
   "cell_type": "code",
   "execution_count": 90,
   "metadata": {},
   "outputs": [
    {
     "data": {
      "text/plain": [
       "2.302585092994046"
      ]
     },
     "execution_count": 90,
     "metadata": {},
     "output_type": "execute_result"
    }
   ],
   "source": [
    "math.log(10)"
   ]
  },
  {
   "cell_type": "code",
   "execution_count": 91,
   "metadata": {},
   "outputs": [
    {
     "data": {
      "text/plain": [
       "1.7320508075688772"
      ]
     },
     "execution_count": 91,
     "metadata": {},
     "output_type": "execute_result"
    }
   ],
   "source": [
    "math.sqrt(3)"
   ]
  },
  {
   "cell_type": "code",
   "execution_count": 94,
   "metadata": {},
   "outputs": [
    {
     "data": {
      "text/plain": [
       "1.0"
      ]
     },
     "execution_count": 94,
     "metadata": {},
     "output_type": "execute_result"
    }
   ],
   "source": [
    "math.fabs(-1)"
   ]
  },
  {
   "cell_type": "markdown",
   "metadata": {},
   "source": [
    "### 三角函数"
   ]
  },
  {
   "cell_type": "code",
   "execution_count": 95,
   "metadata": {},
   "outputs": [
    {
     "data": {
      "text/plain": [
       "0.8414709848078965"
      ]
     },
     "execution_count": 95,
     "metadata": {},
     "output_type": "execute_result"
    }
   ],
   "source": [
    "math.sin(1)"
   ]
  },
  {
   "cell_type": "code",
   "execution_count": 101,
   "metadata": {},
   "outputs": [
    {
     "data": {
      "text/plain": [
       "1.5707963267948966"
      ]
     },
     "execution_count": 101,
     "metadata": {},
     "output_type": "execute_result"
    }
   ],
   "source": [
    "math.degrees(math.pi)\n",
    "math.radians(90)"
   ]
  },
  {
   "cell_type": "markdown",
   "metadata": {},
   "source": [
    "## 练习"
   ]
  },
  {
   "cell_type": "code",
   "execution_count": 102,
   "metadata": {},
   "outputs": [
    {
     "name": "stdout",
     "output_type": "stream",
     "text": [
      "125.66370614359172\n"
     ]
    }
   ],
   "source": [
    "# 计算圆面积\n",
    "# math 模块中的 pi 属性是圆周率π\n",
    "# 圆面积公式 S = π * r * r\n",
    "import math\n",
    "r = 20\n",
    "# 计算半径为 r 的圆面积\n",
    "S = 2 * math.pi *r\n",
    "print(S)"
   ]
  },
  {
   "cell_type": "code",
   "execution_count": 106,
   "metadata": {},
   "outputs": [
    {
     "name": "stdout",
     "output_type": "stream",
     "text": [
      "0.9690978256367849\n"
     ]
    }
   ],
   "source": [
    "# 生成10个随机数，输出里面最大的数\n",
    "import random\n",
    "print(max([random.random() for i in range(10)]))"
   ]
  },
  {
   "cell_type": "code",
   "execution_count": 107,
   "metadata": {},
   "outputs": [
    {
     "name": "stdout",
     "output_type": "stream",
     "text": [
      "Please guess the number what i think52\n",
      "your answer is higher\n",
      "Try again25\n",
      "your answer is lower\n",
      "Try again35\n",
      "your answer is lower\n",
      "Try again42\n",
      "your answer is higher\n",
      "Try again40\n",
      "your answer is higher\n",
      "Try again38\n",
      "your answer is higher\n",
      "Try again37\n",
      "your answer is higher\n",
      "Try again36\n",
      "Congratulations, you did it\n"
     ]
    }
   ],
   "source": [
    "# 将第六课（while循环）练习1的猜数字小游戏中的数字用一个1-100之间的随机数来改写，并在猜中后输出猜了几轮猜中答案\n",
    "from random import randint\n",
    "number = randint(1, 100)\n",
    "guess = int(input('Please guess the number what i think'))\n",
    "while guess != number:\n",
    "    if guess > number:\n",
    "        print('your answer is higher')\n",
    "    else:\n",
    "        print('your answer is lower')\n",
    "    guess = int(input('Try again'))\n",
    "print('Congratulations, you did it')"
   ]
  },
  {
   "cell_type": "code",
   "execution_count": null,
   "metadata": {},
   "outputs": [],
   "source": [
    "\"\"\"\n",
    "【问题描述】\n",
    "在教程最开始的几课里，有一个猜数字的游戏：程序随机一个结果，用户通过命令行输入去猜。程序会告诉你猜大了还是小了，直到猜中为止。\n",
    "\n",
    "现在，请你独立实现这个小游戏，并且加上一些功能，比如：\n",
    "\n",
    "游戏可以反复进行，猜中了之后可以重新开始\n",
    "统计用户猜了几轮，平均几次猜中\n",
    "\"\"\"\n",
    "from random import randint\n",
    "res = []\n",
    "while True:\n",
    "    number = randint(1, 100)\n",
    "    guess = int(input('Please guess the number what i think'))\n",
    "    times = 0\n",
    "    while guess != number:\n",
    "        if guess > number:\n",
    "            print('your answer is higher')\n",
    "        else:\n",
    "            print('your answer is lower')\n",
    "        guess = int(input('Try again:'))\n",
    "        times += 1\n",
    "    print('Congratulations, you did it')\n",
    "    res.append(times)\n",
    "    print('平均{}次'.format(sum(res)/len(res)))"
   ]
  },
  {
   "cell_type": "markdown",
   "metadata": {},
   "source": [
    "# 函数"
   ]
  },
  {
   "cell_type": "code",
   "execution_count": 108,
   "metadata": {},
   "outputs": [
    {
     "name": "stdout",
     "output_type": "stream",
     "text": [
      "2\n",
      "3\n"
     ]
    }
   ],
   "source": [
    "# 1. 思考下面这段程序会输出什么并亲自试一试\n",
    "def func(x):\n",
    "    print (x)\n",
    "    return x+1\n",
    "\n",
    "x = 2\n",
    "print (func(x))"
   ]
  },
  {
   "cell_type": "code",
   "execution_count": 109,
   "metadata": {},
   "outputs": [
    {
     "name": "stdout",
     "output_type": "stream",
     "text": [
      "240\n"
     ]
    }
   ],
   "source": [
    "# 2. 创建函数\n",
    "# 创建一个函数 func，有一个参数 param\n",
    "# 将输入参数的数值乘以2，作为返回值\n",
    "\n",
    "def func(param):\n",
    "    return param*12\n",
    "\n",
    "p = func(20)\n",
    "print(p)"
   ]
  },
  {
   "cell_type": "code",
   "execution_count": 119,
   "metadata": {},
   "outputs": [
    {
     "name": "stdout",
     "output_type": "stream",
     "text": [
      "[1, 2, 3, 4, 5, 6, 7]\n"
     ]
    }
   ],
   "source": [
    "# 3. 实现一个函数，输入参数是两个列表，输出返回值是两个列表元素合并并排序后的结果，比如\n",
    "def combine(a, b):\n",
    "    a.sort()\n",
    "    b.sort()\n",
    "    m, n = len(a), len(b)\n",
    "    i, j= 0, 0\n",
    "    res = []\n",
    "    while i < m and j < n:\n",
    "        if a[i] < b[j]:\n",
    "            res.append(a[i])\n",
    "            i += 1\n",
    "        else:\n",
    "            res.append(b[j])\n",
    "            j += 1\n",
    "    if i < m:\n",
    "        res.extend(a[i:])\n",
    "    if j < n:\n",
    "        res.extend(b[j:])\n",
    "    return res\n",
    "\n",
    "a = [1,5,3]\n",
    "b = [2,6,7,4]\n",
    "print(combine(a, b))"
   ]
  },
  {
   "cell_type": "code",
   "execution_count": 113,
   "metadata": {},
   "outputs": [],
   "source": [
    "a = [1,5,3]\n",
    "a.sort()"
   ]
  },
  {
   "cell_type": "code",
   "execution_count": 114,
   "metadata": {},
   "outputs": [
    {
     "data": {
      "text/plain": [
       "[1, 3, 5]"
      ]
     },
     "execution_count": 114,
     "metadata": {},
     "output_type": "execute_result"
    }
   ],
   "source": [
    "a"
   ]
  },
  {
   "cell_type": "code",
   "execution_count": 124,
   "metadata": {},
   "outputs": [
    {
     "name": "stdout",
     "output_type": "stream",
     "text": [
      "Lily's score is 30\n"
     ]
    }
   ],
   "source": [
    "name = 'Lily'\n",
    "score = 30\n",
    "print(\"{}'s score is {}\".format(name, score))"
   ]
  },
  {
   "cell_type": "code",
   "execution_count": 125,
   "metadata": {},
   "outputs": [
    {
     "name": "stdout",
     "output_type": "stream",
     "text": [
      "Crossin is 18, he write Python.\n"
     ]
    }
   ],
   "source": [
    "name = 'Crossin'\n",
    "age = 18\n",
    "code = 'Python'\n",
    "\n",
    "# 通过 % 将 name, age, code 拼接成一句话\n",
    "# 输出 Crossin is 18, he write Python.\n",
    "result = \"{} is {}, he write {}.\".format(name, age, code)\n",
    "print(result)"
   ]
  },
  {
   "cell_type": "code",
   "execution_count": 128,
   "metadata": {},
   "outputs": [],
   "source": [
    "__int = 1"
   ]
  },
  {
   "cell_type": "code",
   "execution_count": 131,
   "metadata": {},
   "outputs": [
    {
     "data": {
      "text/plain": [
       "False"
      ]
     },
     "execution_count": 131,
     "metadata": {},
     "output_type": "execute_result"
    }
   ],
   "source": [
    "not 'False'"
   ]
  },
  {
   "cell_type": "code",
   "execution_count": 146,
   "metadata": {},
   "outputs": [
    {
     "name": "stdout",
     "output_type": "stream",
     "text": [
      "a:hello,world;,b:1.41;,c:True;,d:False;，e:True;\n"
     ]
    }
   ],
   "source": [
    "a = 'hello,world'\n",
    "b = 1.41\n",
    "c = True\n",
    "d = False\n",
    "e = True\n",
    "print('a:%s;,b:%.2f;,c:%s;,d:%s;，e:%s;' %(a,b,c,d,e))\n",
    "# a:hello,word; b:1.41; c:True; d:False; e:True"
   ]
  },
  {
   "cell_type": "code",
   "execution_count": 141,
   "metadata": {},
   "outputs": [
    {
     "name": "stdout",
     "output_type": "stream",
     "text": [
      "'hello,world'\n",
      "\\\"hello,world\"\n"
     ]
    }
   ],
   "source": [
    "print(\"'hello,world'\")\n",
    "print('\\\\\"hello,world\"')"
   ]
  },
  {
   "cell_type": "code",
   "execution_count": 8,
   "metadata": {},
   "outputs": [
    {
     "name": "stdout",
     "output_type": "stream",
     "text": [
      "Please input your height: (KG)80\n",
      "Please input your weight: (M)180\n",
      "体重偏轻\n"
     ]
    }
   ],
   "source": [
    "weight = float(input('Please input your height: (KG)'))\n",
    "height = float(input('Please input your weight: (M)'))\n",
    "BMI = weight/(height*height)\n",
    "if BMI < 18.5:\n",
    "    print('体重偏轻')\n",
    "elif BMI > 24:\n",
    "    print('体重偏重')\n",
    "else:\n",
    "    print('体重正常')"
   ]
  },
  {
   "cell_type": "code",
   "execution_count": null,
   "metadata": {},
   "outputs": [],
   "source": []
  }
 ],
 "metadata": {
  "kernelspec": {
   "display_name": "Python 3",
   "language": "python",
   "name": "python3"
  },
  "toc": {
   "base_numbering": 1,
   "nav_menu": {},
   "number_sections": true,
   "sideBar": true,
   "skip_h1_title": false,
   "title_cell": "Table of Contents",
   "title_sidebar": "Contents",
   "toc_cell": false,
   "toc_position": {
    "height": "calc(100% - 180px)",
    "left": "10px",
    "top": "150px",
    "width": "231.188px"
   },
   "toc_section_display": true,
   "toc_window_display": true
  }
 },
 "nbformat": 4,
 "nbformat_minor": 4
}

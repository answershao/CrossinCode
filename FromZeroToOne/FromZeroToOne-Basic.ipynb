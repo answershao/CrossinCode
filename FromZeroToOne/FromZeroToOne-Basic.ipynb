{
 "cells": [
  {
   "cell_type": "markdown",
   "metadata": {},
   "source": [
    "## 6-11 编程实例-打印图形"
   ]
  },
  {
   "cell_type": "code",
   "execution_count": 5,
   "metadata": {},
   "outputs": [
    {
     "name": "stdout",
     "output_type": "stream",
     "text": [
      "*****\n",
      "\n",
      "*****\n",
      "\n",
      "*****\n",
      "\n",
      "*****\n",
      "\n",
      "*****\n",
      "\n",
      "***\n",
      "\n",
      "***\n",
      "\n",
      "***\n",
      "\n",
      "***\n",
      "\n",
      "!!!!!!\n",
      "\n",
      "!!!!!!\n",
      "\n"
     ]
    }
   ],
   "source": [
    "\"\"\"\n",
    "【问题描述】\n",
    "用符号的组合在控制台输出不同大小的矩形图案。\n",
    "\n",
    "要求：写一个输出矩形的函数，该函数拥有三个默认参数\n",
    "\n",
    "矩形的长，默认值为 5\n",
    "矩形的宽，默认值为 5\n",
    "组成图形的符号，默认值为 *\n",
    "为函数添加不同的参数，输出三个不同类型的矩形。\n",
    "\n",
    "结果示例：\n",
    "\"\"\"\n",
    "\n",
    "def rect(length=5, width=5, mark='*'):\n",
    "    for i in range(length):\n",
    "        for j in range(width):\n",
    "            print(mark, end='')\n",
    "        print('\\n')\n",
    "rect()\n",
    "rect(4,3)\n",
    "rect(2,6,'!')"
   ]
  },
  {
   "cell_type": "markdown",
   "metadata": {},
   "source": [
    "## 7-1 列表"
   ]
  },
  {
   "cell_type": "code",
   "execution_count": 7,
   "metadata": {},
   "outputs": [
    {
     "name": "stdout",
     "output_type": "stream",
     "text": [
      "everyday\n"
     ]
    }
   ],
   "source": [
    "arr = [365, 'everyday', 0.618, True]\n",
    "print(arr[1])"
   ]
  },
  {
   "cell_type": "code",
   "execution_count": 8,
   "metadata": {},
   "outputs": [
    {
     "data": {
      "text/plain": [
       "1"
      ]
     },
     "execution_count": 8,
     "metadata": {},
     "output_type": "execute_result"
    }
   ],
   "source": [
    "arr.index('everyday')"
   ]
  },
  {
   "cell_type": "code",
   "execution_count": 11,
   "metadata": {},
   "outputs": [
    {
     "data": {
      "text/plain": [
       "[365, 'aaa', 'aaa', 'everyday', 0.618, True]"
      ]
     },
     "execution_count": 11,
     "metadata": {},
     "output_type": "execute_result"
    }
   ],
   "source": [
    "arr.insert(1, 'aaa')\n",
    "arr"
   ]
  },
  {
   "cell_type": "code",
   "execution_count": 13,
   "metadata": {},
   "outputs": [
    {
     "data": {
      "text/plain": [
       "[365, 'everyday', 0.618, True]"
      ]
     },
     "execution_count": 13,
     "metadata": {},
     "output_type": "execute_result"
    }
   ],
   "source": [
    "arr.remove('aaa')\n",
    "arr"
   ]
  },
  {
   "cell_type": "code",
   "execution_count": 14,
   "metadata": {},
   "outputs": [
    {
     "data": {
      "text/plain": [
       "0.618"
      ]
     },
     "execution_count": 14,
     "metadata": {},
     "output_type": "execute_result"
    }
   ],
   "source": [
    "arr.pop(2)"
   ]
  },
  {
   "cell_type": "code",
   "execution_count": 15,
   "metadata": {},
   "outputs": [
    {
     "data": {
      "text/plain": [
       "'30;60;90'"
      ]
     },
     "execution_count": 15,
     "metadata": {},
     "output_type": "execute_result"
    }
   ],
   "source": [
    "\";\".join(str(i) for i in range(1,100) if i%2==0 and i%3==0 and i%5==0)"
   ]
  },
  {
   "cell_type": "code",
   "execution_count": 18,
   "metadata": {},
   "outputs": [
    {
     "data": {
      "text/plain": [
       "'1;2;3'"
      ]
     },
     "execution_count": 18,
     "metadata": {},
     "output_type": "execute_result"
    }
   ],
   "source": [
    "';'.join(map(str, [1,2,3]))"
   ]
  },
  {
   "cell_type": "code",
   "execution_count": 30,
   "metadata": {},
   "outputs": [
    {
     "name": "stdout",
     "output_type": "stream",
     "text": [
      "['I', 'am', 'Mr', 'Crossin', 'of', 'Python']\n",
      "I,am,Mr,Crossin,of,Python\n"
     ]
    }
   ],
   "source": [
    "word = 'I am Mr Crossin of Python'\n",
    "\n",
    "# 将字符串 word 按照空格分割成一个列表\n",
    "lst = word.split(' ')\n",
    "print(lst)\n",
    "# 再将分割后的列表 lst 以逗号(,)为连接字符重新拼接成字符串 word2\n",
    "word2 = ','.join(lst)\n",
    "\n",
    "print(word2)"
   ]
  },
  {
   "cell_type": "code",
   "execution_count": null,
   "metadata": {},
   "outputs": [],
   "source": []
  },
  {
   "cell_type": "code",
   "execution_count": 29,
   "metadata": {},
   "outputs": [
    {
     "data": {
      "text/plain": [
       "'c:\\\\python\\\\scripts'"
      ]
     },
     "execution_count": 29,
     "metadata": {},
     "output_type": "execute_result"
    }
   ],
   "source": [
    "l = ['c:', 'python', 'scripts']\n",
    "a = '\\\\'.join(l)\n",
    "a"
   ]
  },
  {
   "cell_type": "markdown",
   "metadata": {},
   "source": [
    "## 7-9 tuple/dict/set"
   ]
  },
  {
   "cell_type": "code",
   "execution_count": 2,
   "metadata": {},
   "outputs": [
    {
     "name": "stdout",
     "output_type": "stream",
     "text": [
      "(1,)\n"
     ]
    }
   ],
   "source": [
    "print((1,))"
   ]
  },
  {
   "cell_type": "code",
   "execution_count": 19,
   "metadata": {},
   "outputs": [],
   "source": [
    "a_dict = {'身高':180, '体重':70}"
   ]
  },
  {
   "cell_type": "code",
   "execution_count": 21,
   "metadata": {},
   "outputs": [],
   "source": [
    "a_dict.get('身高')\n",
    "a_dict.get('年龄')"
   ]
  },
  {
   "cell_type": "code",
   "execution_count": 22,
   "metadata": {},
   "outputs": [
    {
     "data": {
      "text/plain": [
       "dict_keys(['身高', '体重'])"
      ]
     },
     "execution_count": 22,
     "metadata": {},
     "output_type": "execute_result"
    }
   ],
   "source": [
    "a_dict.keys()"
   ]
  },
  {
   "cell_type": "code",
   "execution_count": 12,
   "metadata": {},
   "outputs": [
    {
     "name": "stdout",
     "output_type": "stream",
     "text": [
      "{1, 2, 4, 5}\n"
     ]
    },
    {
     "data": {
      "text/plain": [
       "{1, 2}"
      ]
     },
     "execution_count": 12,
     "metadata": {},
     "output_type": "execute_result"
    }
   ],
   "source": [
    "set1 = {1,2,3}\n",
    "set2 = {3,4,5}\n",
    "set1 | set2       # 并集\n",
    "set1 & set2       # 交集\n",
    "print(set1 ^ set2)       # 异或\n",
    "set1 - set2       # 补集"
   ]
  },
  {
   "cell_type": "markdown",
   "metadata": {},
   "source": [
    "## 7-15 统计单词出现次数"
   ]
  },
  {
   "cell_type": "code",
   "execution_count": 24,
   "metadata": {},
   "outputs": [
    {
     "name": "stdout",
     "output_type": "stream",
     "text": [
      "{'Beautiful': 1, 'is': 2, 'better': 2, 'than': 2, 'ugly': 1, 'Explicit': 1, 'implicit': 1}\n"
     ]
    }
   ],
   "source": [
    "list_s = ['Beautiful', 'is', 'better', 'than', 'ugly', 'Explicit', 'is', 'better', 'than', 'implicit']\n",
    "\n",
    "dic = {}\n",
    "for word in list_s:\n",
    "    if word not in dic:\n",
    "        dic[word] = 1\n",
    "    else:\n",
    "        dic[word] += 1\n",
    "print(dic)"
   ]
  },
  {
   "cell_type": "markdown",
   "metadata": {},
   "source": [
    "## 7-16 生成优惠券号码"
   ]
  },
  {
   "cell_type": "code",
   "execution_count": 50,
   "metadata": {},
   "outputs": [],
   "source": [
    "\"\"\"\n",
    "【问题描述】\n",
    "很多付费应用的开发者，会设计一些优惠券来吸引用户来使用新开发的应用，以达到一定的广告效应。\n",
    "\n",
    "现在，请你帮他们设计并生成200个优惠券号码：\n",
    "\n",
    "优惠码的字符由26个英文字符（大小写）组成\n",
    "每个优惠码有8位\n",
    "\"\"\"\n",
    "\n",
    "import random\n",
    "lst1 = [i for i in range(97, 123)]\n",
    "lst2 = [i for i in range(65, 91)]\n",
    "lst1.extend(lst2)\n",
    "\n",
    "res = []\n",
    "for i in range(200):\n",
    "    eight = random.sample(lst1, 8)\n",
    "    random.shuffle(eight)\n",
    "    res.append(''.join([chr(x) for x in eight]))\n",
    "# print(res)"
   ]
  },
  {
   "cell_type": "code",
   "execution_count": 54,
   "metadata": {
    "collapsed": true
   },
   "outputs": [
    {
     "name": "stdout",
     "output_type": "stream",
     "text": [
      "['c', 'f', 't', 'd', 'D', 'q', 'a', 'Z']\n",
      "['c', 'Z', 'a', 'q', 'D', 't', 'd', 'f']\n",
      "['d', 'a', 'Z', 'q', 'c', 't', 'f', 'D']\n",
      "['Z', 'D', 't', 'c', 'f', 'q', 'a', 'd']\n",
      "['d', 'f', 'q', 'D', 'c', 'a', 'Z', 't']\n",
      "['d', 'q', 'f', 'Z', 'D', 'c', 'a', 't']\n",
      "['D', 'f', 'q', 'd', 'Z', 't', 'a', 'c']\n",
      "['c', 'q', 'D', 'a', 't', 'Z', 'd', 'f']\n",
      "['a', 'f', 't', 'd', 'q', 'D', 'Z', 'c']\n",
      "['q', 't', 'd', 'D', 'a', 'c', 'Z', 'f']\n",
      "['Z', 't', 'q', 'f', 'd', 'D', 'c', 'a']\n",
      "['c', 't', 'Z', 'd', 'D', 'q', 'f', 'a']\n",
      "['q', 'Z', 'a', 'f', 't', 'd', 'c', 'D']\n",
      "['q', 'D', 'c', 'd', 'f', 'a', 'Z', 't']\n",
      "['q', 'a', 'f', 'd', 'c', 'Z', 'D', 't']\n",
      "['d', 'q', 'Z', 'c', 'a', 't', 'D', 'f']\n",
      "['D', 't', 'Z', 'c', 'q', 'f', 'a', 'd']\n",
      "['q', 'Z', 'c', 't', 'f', 'a', 'd', 'D']\n",
      "['q', 'Z', 'a', 'f', 't', 'd', 'c', 'D']\n",
      "['D', 'a', 't', 'd', 'c', 'f', 'q', 'Z']\n",
      "['t', 'f', 'c', 'a', 'D', 'q', 'd', 'Z']\n",
      "['d', 'Z', 'a', 'c', 't', 'D', 'q', 'f']\n",
      "['q', 'f', 'a', 't', 'Z', 'c', 'D', 'd']\n",
      "['q', 'Z', 'D', 't', 'a', 'f', 'd', 'c']\n",
      "['q', 'f', 'd', 'a', 'c', 't', 'D', 'Z']\n",
      "['d', 'D', 'a', 'f', 'c', 't', 'q', 'Z']\n",
      "['t', 'q', 'f', 'D', 'Z', 'a', 'c', 'd']\n",
      "['t', 'a', 'c', 'Z', 'd', 'q', 'D', 'f']\n",
      "['D', 't', 'a', 'Z', 'c', 'f', 'd', 'q']\n",
      "['a', 'd', 't', 'D', 'c', 'f', 'q', 'Z']\n",
      "['q', 'a', 'D', 'f', 't', 'd', 'Z', 'c']\n",
      "['q', 'Z', 'd', 'f', 'c', 'D', 'a', 't']\n",
      "['q', 'c', 'D', 'a', 'Z', 'd', 't', 'f']\n",
      "['a', 'D', 'd', 't', 'c', 'q', 'Z', 'f']\n",
      "['Z', 't', 'f', 'q', 'd', 'D', 'a', 'c']\n",
      "['f', 'q', 'c', 'a', 'Z', 'd', 't', 'D']\n",
      "['t', 'c', 'a', 'D', 'q', 'd', 'f', 'Z']\n",
      "['t', 'a', 'd', 'f', 'Z', 'c', 'q', 'D']\n",
      "['f', 'c', 'D', 'd', 'Z', 'a', 't', 'q']\n",
      "['d', 'q', 'c', 'a', 'D', 'f', 't', 'Z']\n",
      "['c', 'q', 'd', 'Z', 'a', 't', 'D', 'f']\n",
      "['c', 'Z', 'a', 'd', 'q', 'D', 't', 'f']\n",
      "['t', 'f', 'Z', 'D', 'a', 'd', 'q', 'c']\n",
      "['D', 'f', 'q', 'Z', 'd', 'c', 'a', 't']\n",
      "['q', 'a', 'd', 'Z', 't', 'D', 'c', 'f']\n",
      "['Z', 't', 'c', 'a', 'd', 'D', 'q', 'f']\n",
      "['d', 'a', 'D', 'f', 'c', 'q', 't', 'Z']\n",
      "['d', 'f', 'Z', 'c', 'q', 't', 'a', 'D']\n",
      "['a', 'c', 'd', 'Z', 'D', 'q', 't', 'f']\n",
      "['f', 'q', 'Z', 't', 'a', 'D', 'd', 'c']\n",
      "['Z', 'd', 'f', 'a', 'D', 'q', 't', 'c']\n",
      "['d', 'q', 'f', 'c', 'D', 'a', 't', 'Z']\n",
      "['Z', 'd', 'q', 'D', 't', 'f', 'a', 'c']\n",
      "['f', 'q', 'Z', 'D', 'd', 't', 'c', 'a']\n",
      "['D', 'c', 'q', 'd', 'a', 't', 'Z', 'f']\n",
      "['c', 'q', 't', 'a', 'f', 'd', 'Z', 'D']\n",
      "['d', 'D', 'c', 'q', 't', 'a', 'Z', 'f']\n",
      "['d', 'c', 'a', 'q', 't', 'D', 'Z', 'f']\n",
      "['c', 'Z', 'a', 'f', 't', 'D', 'd', 'q']\n",
      "['t', 'D', 'd', 'q', 'Z', 'f', 'c', 'a']\n",
      "['D', 'Z', 'f', 'q', 't', 'c', 'd', 'a']\n",
      "['d', 'q', 'a', 't', 'f', 'c', 'Z', 'D']\n",
      "['Z', 'a', 't', 'f', 'c', 'D', 'q', 'd']\n",
      "['f', 'a', 'd', 'Z', 't', 'q', 'c', 'D']\n",
      "['d', 't', 'c', 'Z', 'a', 'D', 'f', 'q']\n",
      "['Z', 'c', 'a', 'f', 'q', 'D', 't', 'd']\n",
      "['f', 't', 'a', 'd', 'c', 'q', 'Z', 'D']\n",
      "['d', 'q', 'f', 'Z', 'D', 'c', 'a', 't']\n",
      "['a', 'Z', 't', 'f', 'D', 'q', 'c', 'd']\n",
      "['a', 'Z', 'q', 'c', 't', 'D', 'f', 'd']\n",
      "['t', 'a', 'D', 'f', 'd', 'Z', 'q', 'c']\n",
      "['Z', 'd', 'D', 'a', 'q', 'f', 'c', 't']\n",
      "['t', 'f', 'a', 'q', 'd', 'c', 'Z', 'D']\n",
      "['f', 'c', 't', 'D', 'a', 'd', 'q', 'Z']\n",
      "['c', 'D', 'q', 'f', 'Z', 't', 'd', 'a']\n",
      "['f', 'D', 'q', 'd', 'Z', 'c', 't', 'a']\n",
      "['Z', 'D', 't', 'c', 'q', 'a', 'd', 'f']\n",
      "['c', 'd', 'a', 't', 'Z', 'q', 'f', 'D']\n",
      "['a', 'f', 'd', 'c', 'D', 'Z', 'q', 't']\n",
      "['q', 'D', 't', 'd', 'c', 'Z', 'f', 'a']\n",
      "['q', 'f', 't', 'D', 'Z', 'c', 'a', 'd']\n",
      "['c', 'a', 'd', 't', 'D', 'Z', 'f', 'q']\n",
      "['Z', 't', 'f', 'c', 'a', 'D', 'q', 'd']\n",
      "['d', 'Z', 'f', 'a', 'D', 't', 'q', 'c']\n",
      "['d', 'c', 'Z', 'D', 't', 'f', 'q', 'a']\n",
      "['d', 'q', 'f', 't', 'D', 'Z', 'a', 'c']\n",
      "['a', 't', 'Z', 'c', 'd', 'f', 'q', 'D']\n",
      "['f', 'a', 'c', 'd', 'Z', 'q', 't', 'D']\n",
      "['d', 'Z', 't', 'q', 'D', 'a', 'c', 'f']\n",
      "['a', 'c', 't', 'f', 'D', 'd', 'q', 'Z']\n",
      "['a', 'c', 'q', 'd', 'f', 'Z', 't', 'D']\n",
      "['a', 'Z', 'c', 'd', 'f', 'D', 't', 'q']\n",
      "['t', 'a', 'D', 'Z', 'q', 'd', 'f', 'c']\n",
      "['q', 'D', 'd', 'Z', 'f', 'c', 'a', 't']\n",
      "['d', 'q', 'D', 'a', 'c', 'f', 'Z', 't']\n",
      "['c', 'Z', 'q', 'f', 'D', 'd', 't', 'a']\n",
      "['D', 't', 'd', 'Z', 'c', 'f', 'q', 'a']\n",
      "['t', 'D', 'c', 'Z', 'f', 'q', 'd', 'a']\n",
      "['D', 'a', 'Z', 't', 'd', 'q', 'c', 'f']\n",
      "['f', 'q', 'Z', 'd', 'c', 't', 'D', 'a']\n",
      "['f', 'a', 'D', 'd', 'Z', 't', 'c', 'q']\n",
      "['D', 'a', 'Z', 't', 'd', 'f', 'c', 'q']\n",
      "['c', 'D', 'q', 't', 'f', 'Z', 'd', 'a']\n",
      "['D', 'd', 'a', 't', 'c', 'Z', 'q', 'f']\n",
      "['q', 'Z', 'c', 'f', 'a', 'D', 'd', 't']\n",
      "['d', 'a', 'Z', 'q', 't', 'f', 'D', 'c']\n",
      "['t', 'Z', 'a', 'd', 'f', 'D', 'q', 'c']\n",
      "['f', 'D', 'q', 'a', 'Z', 't', 'd', 'c']\n",
      "['d', 'q', 'f', 't', 'a', 'c', 'D', 'Z']\n",
      "['f', 'a', 'd', 'D', 'q', 'Z', 't', 'c']\n",
      "['c', 't', 'q', 'a', 'Z', 'f', 'D', 'd']\n",
      "['t', 'd', 'Z', 'f', 'c', 'q', 'a', 'D']\n",
      "['q', 'D', 'c', 'd', 'f', 'Z', 't', 'a']\n",
      "['d', 'q', 'Z', 'a', 'c', 'D', 't', 'f']\n",
      "['t', 'a', 'c', 'Z', 'd', 'D', 'q', 'f']\n",
      "['a', 'q', 'D', 'd', 'Z', 'f', 'c', 't']\n",
      "['c', 'd', 'f', 'a', 't', 'D', 'Z', 'q']\n",
      "['f', 'D', 'q', 'c', 'd', 'Z', 't', 'a']\n",
      "['Z', 'd', 'D', 'q', 'c', 'f', 't', 'a']\n",
      "['t', 'D', 'c', 'f', 'a', 'q', 'Z', 'd']\n",
      "['d', 'f', 'c', 't', 'a', 'Z', 'D', 'q']\n",
      "['Z', 'q', 'a', 'D', 'd', 'f', 'c', 't']\n",
      "['D', 'c', 'd', 'a', 'Z', 'q', 'f', 't']\n",
      "['a', 'q', 'c', 'D', 'd', 't', 'f', 'Z']\n",
      "['D', 'a', 't', 'Z', 'f', 'd', 'q', 'c']\n",
      "['a', 'q', 'd', 't', 'D', 'f', 'Z', 'c']\n",
      "['Z', 'c', 'a', 'D', 'q', 'f', 'd', 't']\n",
      "['q', 'f', 'D', 'd', 'c', 'a', 'Z', 't']\n",
      "['Z', 't', 'a', 'd', 'f', 'D', 'q', 'c']\n",
      "['d', 'f', 'c', 'a', 't', 'D', 'Z', 'q']\n",
      "['a', 'D', 'd', 'f', 'q', 't', 'Z', 'c']\n",
      "['f', 'q', 'Z', 't', 'D', 'c', 'd', 'a']\n",
      "['a', 'q', 'f', 'd', 'D', 'c', 't', 'Z']\n",
      "['d', 'a', 'D', 'q', 't', 'Z', 'c', 'f']\n",
      "['t', 'a', 'q', 'd', 'f', 'Z', 'c', 'D']\n",
      "['f', 'D', 'd', 'c', 'a', 't', 'Z', 'q']\n",
      "['t', 'q', 'c', 'f', 'D', 'd', 'Z', 'a']\n",
      "['c', 'q', 't', 'Z', 'f', 'D', 'd', 'a']\n",
      "['d', 'D', 'q', 'a', 'f', 'c', 't', 'Z']\n",
      "['t', 'a', 'D', 'q', 'Z', 'c', 'f', 'd']\n",
      "['q', 'd', 'f', 'c', 't', 'D', 'Z', 'a']\n",
      "['d', 'Z', 'a', 'D', 'f', 'c', 't', 'q']\n",
      "['d', 'f', 't', 'D', 'a', 'Z', 'q', 'c']\n",
      "['a', 't', 'd', 'D', 'Z', 'q', 'f', 'c']\n",
      "['c', 't', 'f', 'q', 'a', 'D', 'Z', 'd']\n",
      "['D', 'q', 'c', 'a', 'f', 'Z', 'd', 't']\n",
      "['d', 'c', 'D', 't', 'f', 'Z', 'a', 'q']\n",
      "['a', 'd', 'c', 't', 'q', 'D', 'f', 'Z']\n",
      "['q', 't', 'D', 'Z', 'f', 'd', 'a', 'c']\n",
      "['t', 'Z', 'D', 'd', 'f', 'c', 'a', 'q']\n",
      "['t', 'c', 'a', 'q', 'f', 'D', 'd', 'Z']\n",
      "['c', 'Z', 'a', 'd', 'f', 'q', 't', 'D']\n",
      "['f', 'D', 'a', 'q', 'Z', 'd', 't', 'c']\n",
      "['a', 'f', 'q', 'D', 'd', 'c', 't', 'Z']\n",
      "['Z', 'c', 'a', 'q', 't', 'f', 'D', 'd']\n",
      "['D', 't', 'a', 'c', 'f', 'q', 'Z', 'd']\n",
      "['t', 'a', 'q', 'd', 'c', 'Z', 'D', 'f']\n",
      "['t', 'Z', 'd', 'D', 'a', 'f', 'c', 'q']\n",
      "['q', 't', 'd', 'f', 'D', 'c', 'a', 'Z']\n",
      "['D', 'd', 't', 'q', 'Z', 'c', 'f', 'a']\n",
      "['Z', 'q', 't', 'a', 'f', 'd', 'D', 'c']\n",
      "['a', 'Z', 't', 'd', 'q', 'c', 'D', 'f']\n",
      "['f', 'D', 'a', 'Z', 'd', 'q', 't', 'c']\n",
      "['d', 't', 'D', 'c', 'Z', 'q', 'f', 'a']\n",
      "['t', 'Z', 'c', 'q', 'f', 'a', 'd', 'D']\n",
      "['Z', 'q', 'f', 'D', 'c', 'a', 't', 'd']\n",
      "['f', 'q', 'c', 'Z', 't', 'd', 'a', 'D']\n",
      "['d', 'c', 'Z', 'q', 'D', 't', 'f', 'a']\n",
      "['t', 'a', 'D', 'q', 'd', 'Z', 'f', 'c']\n",
      "['q', 'a', 'Z', 'f', 'd', 't', 'c', 'D']\n",
      "['c', 'Z', 'f', 't', 'q', 'a', 'D', 'd']\n",
      "['Z', 'D', 't', 'f', 'q', 'd', 'a', 'c']\n",
      "['Z', 't', 'D', 'q', 'c', 'f', 'd', 'a']\n",
      "['t', 'D', 'a', 'd', 'q', 'c', 'f', 'Z']\n",
      "['d', 'c', 'D', 'f', 'Z', 'a', 'q', 't']\n",
      "['q', 'Z', 'd', 'f', 't', 'c', 'a', 'D']\n",
      "['q', 'D', 'a', 'Z', 't', 'd', 'c', 'f']\n",
      "['c', 'a', 'd', 'f', 'Z', 'q', 'D', 't']\n",
      "['d', 'f', 't', 'c', 'D', 'a', 'Z', 'q']\n",
      "['Z', 'D', 't', 'a', 'f', 'c', 'd', 'q']\n",
      "['D', 't', 'Z', 'c', 'd', 'a', 'f', 'q']\n",
      "['t', 'd', 'q', 'D', 'a', 'f', 'c', 'Z']\n",
      "['a', 'c', 't', 'q', 'f', 'd', 'Z', 'D']\n",
      "['D', 't', 'q', 'c', 'f', 'a', 'Z', 'd']\n",
      "['D', 't', 'q', 'Z', 'a', 'f', 'd', 'c']\n",
      "['d', 'f', 'Z', 'a', 'c', 'D', 'q', 't']\n",
      "['f', 't', 'd', 'c', 'q', 'D', 'a', 'Z']\n",
      "['D', 'a', 't', 'Z', 'c', 'q', 'f', 'd']\n",
      "['t', 'd', 'D', 'f', 'Z', 'q', 'c', 'a']\n",
      "['a', 'd', 'q', 'Z', 'c', 'D', 't', 'f']\n",
      "['d', 'q', 'a', 'c', 'D', 'f', 't', 'Z']\n",
      "['q', 'f', 'a', 'c', 'D', 't', 'Z', 'd']\n",
      "['c', 'Z', 'd', 'a', 'q', 'f', 't', 'D']\n",
      "['Z', 'a', 't', 'f', 'd', 'c', 'q', 'D']\n",
      "['f', 'D', 'd', 't', 'q', 'a', 'Z', 'c']\n",
      "['f', 't', 'd', 'D', 'a', 'Z', 'c', 'q']\n",
      "['Z', 'c', 'd', 'D', 't', 'a', 'f', 'q']\n",
      "['t', 'f', 'd', 'D', 'a', 'c', 'q', 'Z']\n",
      "['f', 'D', 'q', 'c', 'a', 'd', 'Z', 't']\n",
      "['Z', 'f', 't', 'D', 'c', 'd', 'a', 'q']\n"
     ]
    }
   ],
   "source": [
    "import random\n",
    "import string\n",
    "lst = list(string.ascii_letters)\n",
    "for i in range(200):\n",
    "#     eight = random.sample(lst, 8)\n",
    "    random.shuffle(eight)\n",
    "    print(eight[:8])"
   ]
  },
  {
   "cell_type": "markdown",
   "metadata": {},
   "source": [
    "## 7-18 三人斗地主手牌生成"
   ]
  },
  {
   "cell_type": "code",
   "execution_count": 62,
   "metadata": {},
   "outputs": [
    {
     "name": "stdout",
     "output_type": "stream",
     "text": [
      "['梅花6', '方块K', '黑桃5', '红桃9', '红桃10', '黑桃8', '方块8', '红桃3', '梅花8', '梅花4', '红桃Q', '方块6', '梅花Q', '红桃7', '方块4', '黑桃Q', '黑桃7'] \n",
      " ['红桃2', '梅花5', '黑桃4', '黑桃10', '方块2', '梅花3', '梅花9', '方块3', '黑桃1', '梅花J', '红桃K', '梅花1', '方块1', '方块Q', '方块7', 'King', '红桃1'] \n",
      " ['红桃8', '方块5', '红桃5', '红桃6', '梅花K', '黑桃K', '方块9', '黑桃J', '红桃J', '黑桃2', '黑桃3', '红桃4', 'Queen', '梅花2', '梅花7', '方块J', '黑桃6'] \n",
      " ['黑桃9', '梅花10', '方块10']\n"
     ]
    }
   ],
   "source": [
    "import random\n",
    "colors = ('红桃','方块','梅花','黑桃')\n",
    "points = ('1', '2', '3', '4', '5', '6', '7', '8', '9', '10', 'J', 'Q', 'K')\n",
    "KING_QUEEN = ['King', 'Queen']\n",
    "cards = []\n",
    "for color in colors:\n",
    "    for point in points:\n",
    "        cards.append(color+ point)\n",
    "cards.extend(KING_QUEEN)\n",
    "\n",
    "random.shuffle(cards)\n",
    "player1 = cards[:17]\n",
    "player2 = cards[17:34]\n",
    "player3 = cards[34:51]\n",
    "hidden_ = cards[51:]\n",
    "print(player1, '\\n', player2, '\\n',player3,'\\n', hidden_)"
   ]
  },
  {
   "cell_type": "markdown",
   "metadata": {},
   "source": [
    "## 8-8 字符编码"
   ]
  },
  {
   "cell_type": "code",
   "execution_count": 64,
   "metadata": {},
   "outputs": [
    {
     "data": {
      "text/plain": [
       "'美国标准信息交换码”（简称 ASCII）'"
      ]
     },
     "execution_count": 64,
     "metadata": {},
     "output_type": "execute_result"
    }
   ],
   "source": [
    "'美国标准信息交换码”（简称 ASCII）'"
   ]
  },
  {
   "cell_type": "code",
   "execution_count": 65,
   "metadata": {},
   "outputs": [
    {
     "data": {
      "text/plain": [
       "'在 Python 3 中，str 是通过 unicode 来保存的，所以在代码内部，其实不存在编码转换的问题。'"
      ]
     },
     "execution_count": 65,
     "metadata": {},
     "output_type": "execute_result"
    }
   ],
   "source": [
    "'在 Python 3 中，str 是通过 unicode 来保存的，所以在代码内部，其实不存在编码转换的问题。'"
   ]
  },
  {
   "cell_type": "markdown",
   "metadata": {},
   "source": [
    "### 手动解编码"
   ]
  },
  {
   "cell_type": "code",
   "execution_count": 68,
   "metadata": {},
   "outputs": [
    {
     "data": {
      "text/plain": [
       "'引号前带 b 的就是 bytes 类型。'"
      ]
     },
     "execution_count": 68,
     "metadata": {},
     "output_type": "execute_result"
    }
   ],
   "source": [
    "s = '你好'\n",
    "s.encode('utf8')\n",
    "'引号前带 b 的就是 bytes 类型。'"
   ]
  },
  {
   "cell_type": "code",
   "execution_count": 69,
   "metadata": {},
   "outputs": [
    {
     "data": {
      "text/plain": [
       "'\\n如果之后遇上编码问题，建议使用 PyCharm 编辑器，\\n并在其设置中将各部分的编码均设置成 UTF-8，基本可以避免大部分问题。\\n另外，不要通过 Windows 默认的记事本创建文件，\\n你可以直接通过 PyCharm 创建，或使用 Notepad++、SublimeText 等方便设置编码的文本编辑器。\\n'"
      ]
     },
     "execution_count": 69,
     "metadata": {},
     "output_type": "execute_result"
    }
   ],
   "source": [
    "\"\"\"\n",
    "如果之后遇上编码问题，建议使用 PyCharm 编辑器，\n",
    "并在其设置中将各部分的编码均设置成 UTF-8，基本可以避免大部分问题。\n",
    "另外，不要通过 Windows 默认的记事本创建文件，\n",
    "你可以直接通过 PyCharm 创建，或使用 Notepad++、SublimeText 等方便设置编码的文本编辑器。\n",
    "\"\"\""
   ]
  },
  {
   "cell_type": "markdown",
   "metadata": {},
   "source": [
    "## 8-11 屏蔽词替换"
   ]
  },
  {
   "cell_type": "code",
   "execution_count": 101,
   "metadata": {},
   "outputs": [
    {
     "name": "stdout",
     "output_type": "stream",
     "text": [
      "Please input:abcdef\n"
     ]
    },
    {
     "data": {
      "text/plain": [
       "'***def'"
      ]
     },
     "execution_count": 101,
     "metadata": {},
     "output_type": "execute_result"
    }
   ],
   "source": [
    "def replace_str(r):\n",
    "    with open('test.txt', 'r', encoding='utf-8') as f:\n",
    "        for line in f.readlines():\n",
    "            s = line.strip()\n",
    "            r = r.replace(s, '*'*len(s))\n",
    "        return r\n",
    "replace_str(input('Please input:'))"
   ]
  },
  {
   "cell_type": "code",
   "execution_count": 88,
   "metadata": {},
   "outputs": [
    {
     "data": {
      "text/plain": [
       "'*c'"
      ]
     },
     "execution_count": 88,
     "metadata": {},
     "output_type": "execute_result"
    }
   ],
   "source": [
    "'abc'.replace('ab', '*')"
   ]
  },
  {
   "cell_type": "markdown",
   "metadata": {},
   "source": [
    "## 8-12 查找文件"
   ]
  },
  {
   "cell_type": "code",
   "execution_count": 102,
   "metadata": {},
   "outputs": [
    {
     "name": "stdout",
     "output_type": "stream",
     "text": [
      "匹配关键字：te\n",
      "搜索目录（不填默认为当前目录）：\n",
      "=======匹配结果=======\n",
      "./test.txt\n"
     ]
    }
   ],
   "source": [
    "\"\"\"\n",
    "【问题描述】\n",
    "用 Python 做运维或写自动化脚本时，难免要和文件打交道。\n",
    "\n",
    "要求：输入关键字，列出指定文件夹中的所有文件名中含有此关键字的文件/目录，以及文件内容中含有此关键字的文件。\n",
    "\n",
    "提示：建议使用 os 模块的 listdir 方法获取指定目录下的所有文件 参考文档\n",
    "\n",
    "主要涉及内容：文件路径、输入输出、字符串匹配\n",
    "\"\"\"\n",
    "import os\n",
    "\n",
    "def findfile(key, input_dir='.'):\n",
    "    foundlist = []\n",
    "    all_files = os.listdir(input_dir)\n",
    "    for name in all_files:\n",
    "        full_name = input_dir + '/' + name\n",
    "        if key in name:\n",
    "            foundlist.append(full_name)\n",
    "        else:\n",
    "            try:\n",
    "                with open(full_name) as f:\n",
    "                    for l in f.readlines():\n",
    "                        if key in l:\n",
    "                            foundlist.append(full_name + ':' + l.strip())\n",
    "                            break\n",
    "            except:\n",
    "                pass\n",
    "    return foundlist\n",
    "                            \n",
    "keyword = input('匹配关键字：')\n",
    "path = input('搜索目录（不填默认为当前目录）：')\n",
    "if not path.strip():\n",
    "    path = '.'\n",
    "\n",
    "result = findfile(keyword, path)\n",
    "\n",
    "print('=======匹配结果=======')\n",
    "for r in result:\n",
    "    print(r)\n",
    "\n"
   ]
  },
  {
   "cell_type": "code",
   "execution_count": 1,
   "metadata": {},
   "outputs": [],
   "source": [
    "import logging"
   ]
  },
  {
   "cell_type": "code",
   "execution_count": 7,
   "metadata": {},
   "outputs": [
    {
     "data": {
      "text/plain": [
       "<map at 0x21a486b1a48>"
      ]
     },
     "execution_count": 7,
     "metadata": {},
     "output_type": "execute_result"
    }
   ],
   "source": [
    "grade = ['75', '57', '38', '85', '58', '60', '97', '99', '69']\n",
    "map(int, grade)"
   ]
  },
  {
   "cell_type": "code",
   "execution_count": 12,
   "metadata": {},
   "outputs": [
    {
     "data": {
      "text/plain": [
       "<map at 0x21a4869e3c8>"
      ]
     },
     "execution_count": 12,
     "metadata": {},
     "output_type": "execute_result"
    }
   ],
   "source": [
    "map(lambda x: str(x), [1,2,3,4,5])"
   ]
  },
  {
   "cell_type": "code",
   "execution_count": 61,
   "metadata": {},
   "outputs": [
    {
     "name": "stdout",
     "output_type": "stream",
     "text": [
      "    语文  数学  英语  物理  化学  生物  政治  历史  地理\n",
      "0   73  85  80  82  93  41  64  87  55\n",
      "1   33  91  81  92  72  50  50  65  83\n",
      "2   95  64  87  79  34  70  45  72  87\n",
      "3   87  34  81  58  73  41  46  74  97\n",
      "4   54  58  66  65  42  43  70  33  89\n",
      "5   55  83  80  94  90  86  44  33  64\n",
      "6   84  93  59  94  86  71  69  81  71\n",
      "7   75  83  31  53  72  34  33  64  80\n",
      "8   36  74  83  69  57  78  73  59  58\n",
      "9   98  90  64  71  90  65  40  33  89\n",
      "10  90  47  70  34  88  73  69  74  60\n",
      "11  70  67  33  96  94  69  62  72  72\n",
      "12  82  43  63  70  60  67  54  69  92\n",
      "13  94  95  72  86  78  78  43  95  96\n",
      "14  83  70  36  74  50  56  38  93  78\n",
      "15  86  93  87  46  75  44  45  60  81\n",
      "16  97  91  88  86  86  54  61  56  82\n",
      "17  47  51  64  78  89  91  37  94  61\n",
      "18  74  67  63  53  34  89  56  66  76\n",
      "19  50  72  99  31  38  92  62  92  65\n",
      "20  86  40  86  57  76  92  79  95  52\n",
      "21  51  33  81  48  95  80  51  81  99\n",
      "22  88  74  38  48  78  87  96  88  90\n",
      "23  43  87  44  88  95  78  91  42  94\n",
      "24  37  86  88  83  80  90  31  78  37\n",
      "25  63  53  55  94  45  55  73  91  78\n",
      "26  36  71  77  60  91  79  90  37  61\n",
      "27  53  85  85  72  62  87  94  73  34\n",
      "28  78  84  77  42  79  82  50  74  94\n",
      "29  75  57  38  85  58  60  97  99  69\n",
      "    姓名  语文  数学  英语  物理  化学  生物  政治  历史  地理   总分        平均分\n",
      "0   小赵  73  85  80  82  93  41  64  87  55  660  73.333333\n",
      "1   小钱  33  91  81  92  72  50  50  65  83  617  68.555556\n",
      "2   小孙  95  64  87  79  34  70  45  72  87  633  70.333333\n",
      "3   小李  87  34  81  58  73  41  46  74  97  591  65.666667\n",
      "4   小周  54  58  66  65  42  43  70  33  89  520  57.777778\n",
      "5   小吴  55  83  80  94  90  86  44  33  64  629  69.888889\n",
      "6   小郑  84  93  59  94  86  71  69  81  71  708  78.666667\n",
      "7   小王  75  83  31  53  72  34  33  64  80  525  58.333333\n",
      "8   小冯  36  74  83  69  57  78  73  59  58  587  65.222222\n",
      "9   小陈  98  90  64  71  90  65  40  33  89  640  71.111111\n",
      "10  小楮  90  47  70  34  88  73  69  74  60  605  67.222222\n",
      "11  小卫  70  67  33  96  94  69  62  72  72  635  70.555556\n",
      "12  小蒋  82  43  63  70  60  67  54  69  92  600  66.666667\n",
      "13  小沈  94  95  72  86  78  78  43  95  96  737  81.888889\n",
      "14  小韩  83  70  36  74  50  56  38  93  78  578  64.222222\n",
      "15  小杨  86  93  87  46  75  44  45  60  81  617  68.555556\n",
      "16  小朱  97  91  88  86  86  54  61  56  82  701  77.888889\n",
      "17  小秦  47  51  64  78  89  91  37  94  61  612  68.000000\n",
      "18  小尤  74  67  63  53  34  89  56  66  76  578  64.222222\n",
      "19  小许  50  72  99  31  38  92  62  92  65  601  66.777778\n",
      "20  小何  86  40  86  57  76  92  79  95  52  663  73.666667\n",
      "21  小吕  51  33  81  48  95  80  51  81  99  619  68.777778\n",
      "22  小施  88  74  38  48  78  87  96  88  90  687  76.333333\n",
      "23  小张  43  87  44  88  95  78  91  42  94  662  73.555556\n",
      "24  小孔  37  86  88  83  80  90  31  78  37  610  67.777778\n",
      "25  小曹  63  53  55  94  45  55  73  91  78  607  67.444444\n",
      "26  小严  36  71  77  60  91  79  90  37  61  602  66.888889\n",
      "27  小华  53  85  85  72  62  87  94  73  34  645  71.666667\n",
      "28  小金  78  84  77  42  79  82  50  74  94  660  73.333333\n",
      "29  小魏  75  57  38  85  58  60  97  99  69  638  70.888889\n"
     ]
    }
   ],
   "source": [
    "import pandas as pd\n",
    "report = pd.read_table('CrossinCode/report.txt', sep=' ', encoding='utf-8')\n",
    "# temp = report\n",
    "temp = report.drop(['姓名'], axis=1)\n",
    "print(temp)\n",
    "report['总分'] = temp.sum(axis=1)\n",
    "report['平均分'] = temp.mean(axis=1)\n",
    "\n",
    "\n",
    "\n",
    "print(report)"
   ]
  },
  {
   "cell_type": "code",
   "execution_count": 87,
   "metadata": {},
   "outputs": [
    {
     "name": "stdout",
     "output_type": "stream",
     "text": [
      "['site', 'sue', 'see', 'sse', 'ssee']\n"
     ]
    }
   ],
   "source": [
    "import re\n",
    "text = \"site sea sue sweet see case sse ssee loses\"\n",
    "m = re.findall(r\"\\bs\\S*e\\b\", text)\n",
    "# text = 'I am Shirley Hilton. I am his wife'\n",
    "# m = re.findall(r\"I.*?e\", text)\n",
    "if m:\n",
    "    print (m)\n",
    "else:\n",
    "    print ('not match')"
   ]
  },
  {
   "cell_type": "code",
   "execution_count": 106,
   "metadata": {},
   "outputs": [
    {
     "name": "stdout",
     "output_type": "stream",
     "text": [
      "['(021)88776543']\n"
     ]
    }
   ],
   "source": [
    "import re\n",
    "text = '(021)88776543'\n",
    "# text = '010-55667890'\n",
    "# text = '02584453362'\n",
    "# text = '0571 66345673'\n",
    "m = re.findall(\"\\(?0\\d{2,3}[) -]?\\d{7,8}\", text)\n",
    "if m:\n",
    "    print (m)\n",
    "else:\n",
    "    print ('not match')"
   ]
  },
  {
   "cell_type": "code",
   "execution_count": 107,
   "metadata": {},
   "outputs": [
    {
     "data": {
      "text/plain": [
       "'因为()应当是成对出现的，表达式中对于左右两个括号并没有做关联处理，例如(02188776543这样的数据也是符合条件的。'"
      ]
     },
     "execution_count": 107,
     "metadata": {},
     "output_type": "execute_result"
    }
   ],
   "source": [
    "\"因为()应当是成对出现的，表达式中对于左右两个括号并没有做关联处理，例如(02188776543这样的数据也是符合条件的。\""
   ]
  },
  {
   "cell_type": "code",
   "execution_count": 108,
   "metadata": {},
   "outputs": [
    {
     "name": "stdout",
     "output_type": "stream",
     "text": [
      "010-12345\n",
      "010\n",
      "12345\n"
     ]
    }
   ],
   "source": [
    "m = re.match(r'^(\\d{3})-(\\d{3,8})$', '010-12345')\n",
    "print(m.group(0))  # 匹配到的整体，等同于 group()\n",
    "print(m.group(1))  # 第一个括号中的分组 010\n",
    "print(m.group(2))  # 第二个括号中的分组 12345"
   ]
  },
  {
   "cell_type": "code",
   "execution_count": 112,
   "metadata": {},
   "outputs": [
    {
     "name": "stdout",
     "output_type": "stream",
     "text": [
      "['123', '456']\n",
      "['Hi', 'I', 'am', 'Shirley', 'Hilton', 'I', 'am', 'his', 'wife']\n"
     ]
    }
   ],
   "source": [
    "import re\n",
    "\n",
    "text = \"Hi, I am Shirley Hilton 123. I am his wife. 456\"\n",
    "\n",
    "# 取出 text 中所有连续的数字\n",
    "regex = '\\d+'\n",
    "m = re.findall(regex, text)\n",
    "print(m)\n",
    "\n",
    "# 取出 text 中所有的单词（不包括数字）\n",
    "regex = '[A-z]+'\n",
    "n = re.findall(regex, text)\n",
    "print(n)"
   ]
  },
  {
   "cell_type": "code",
   "execution_count": 114,
   "metadata": {},
   "outputs": [
    {
     "name": "stdout",
     "output_type": "stream",
     "text": [
      "['Hello', 'Mr', 'welcome', 'you', 'to']\n"
     ]
    }
   ],
   "source": [
    "import re\n",
    "with open('from.txt',encoding='utf-8') as f:\n",
    "\tresult = f.read()\n",
    "\tresults = re.findall('[A-z]+',result)\n",
    "with open('to.txt','w',encoding='utf-8') as f1:\n",
    "\tf1.writelines(results)\n",
    "f1.close()"
   ]
  },
  {
   "cell_type": "markdown",
   "metadata": {},
   "source": [
    "## 11-1 面向对象"
   ]
  },
  {
   "cell_type": "code",
   "execution_count": 115,
   "metadata": {},
   "outputs": [
    {
     "data": {
      "text/plain": [
       "['__add__',\n",
       " '__class__',\n",
       " '__contains__',\n",
       " '__delattr__',\n",
       " '__dir__',\n",
       " '__doc__',\n",
       " '__eq__',\n",
       " '__format__',\n",
       " '__ge__',\n",
       " '__getattribute__',\n",
       " '__getitem__',\n",
       " '__getnewargs__',\n",
       " '__gt__',\n",
       " '__hash__',\n",
       " '__init__',\n",
       " '__init_subclass__',\n",
       " '__iter__',\n",
       " '__le__',\n",
       " '__len__',\n",
       " '__lt__',\n",
       " '__mod__',\n",
       " '__mul__',\n",
       " '__ne__',\n",
       " '__new__',\n",
       " '__reduce__',\n",
       " '__reduce_ex__',\n",
       " '__repr__',\n",
       " '__rmod__',\n",
       " '__rmul__',\n",
       " '__setattr__',\n",
       " '__sizeof__',\n",
       " '__str__',\n",
       " '__subclasshook__',\n",
       " 'capitalize',\n",
       " 'casefold',\n",
       " 'center',\n",
       " 'count',\n",
       " 'encode',\n",
       " 'endswith',\n",
       " 'expandtabs',\n",
       " 'find',\n",
       " 'format',\n",
       " 'format_map',\n",
       " 'index',\n",
       " 'isalnum',\n",
       " 'isalpha',\n",
       " 'isascii',\n",
       " 'isdecimal',\n",
       " 'isdigit',\n",
       " 'isidentifier',\n",
       " 'islower',\n",
       " 'isnumeric',\n",
       " 'isprintable',\n",
       " 'isspace',\n",
       " 'istitle',\n",
       " 'isupper',\n",
       " 'join',\n",
       " 'ljust',\n",
       " 'lower',\n",
       " 'lstrip',\n",
       " 'maketrans',\n",
       " 'partition',\n",
       " 'replace',\n",
       " 'rfind',\n",
       " 'rindex',\n",
       " 'rjust',\n",
       " 'rpartition',\n",
       " 'rsplit',\n",
       " 'rstrip',\n",
       " 'split',\n",
       " 'splitlines',\n",
       " 'startswith',\n",
       " 'strip',\n",
       " 'swapcase',\n",
       " 'title',\n",
       " 'translate',\n",
       " 'upper',\n",
       " 'zfill']"
      ]
     },
     "execution_count": 115,
     "metadata": {},
     "output_type": "execute_result"
    }
   ],
   "source": [
    "s = 'hello'\n",
    "dir(s)"
   ]
  },
  {
   "cell_type": "code",
   "execution_count": 118,
   "metadata": {},
   "outputs": [
    {
     "name": "stdout",
     "output_type": "stream",
     "text": [
      "Sam\n",
      "Hello Sam\n"
     ]
    }
   ],
   "source": [
    "# 创建类 MyClass\n",
    "class MyClass:\n",
    "    # 创建属性 name，值为 Sam\n",
    "    def __init__(self):\n",
    "        self.name = 'Sam'\n",
    "    # 创建方法 sayHi\n",
    "    def sayHi(self):\n",
    "        print('Hello %s' % self.name)\n",
    "\n",
    "# 创建一个 MyClass 的对象\n",
    "mc = MyClass()\n",
    "\n",
    "# 输出 mc 的 name 属性\n",
    "print(mc.name)\n",
    "\n",
    "# 调用 mc 的 sayHi 方法\n",
    "mc.sayHi()"
   ]
  },
  {
   "cell_type": "code",
   "execution_count": 133,
   "metadata": {},
   "outputs": [
    {
     "name": "stdout",
     "output_type": "stream",
     "text": [
      "I have a ApplePen\n",
      "I have a PineapplePen\n"
     ]
    }
   ],
   "source": [
    "class Pen:\n",
    "    def __init__(self):\n",
    "        self.name = 'Pen'\n",
    "    def write(self):\n",
    "        print('I have a', self.name)\n",
    "\n",
    "# 创建两个 Pen 子类，并修改各自的 name\n",
    "# 一个叫 ApplePen\n",
    "class ApplePen(Pen):\n",
    "    def __init__(self):\n",
    "        self.name = 'ApplePen'\n",
    "    def write(self):\n",
    "#         super(ApplePen, self).write()\n",
    "        print('I have a', self.name)\n",
    "        \n",
    "# 一个叫 PineapplePen\n",
    "class PineapplePen(Pen):\n",
    "    def __init__(self):\n",
    "        self.name = 'PineapplePen'\n",
    "    def write(self):\n",
    "        print('I have a', self.name)\n",
    "#         super(PineapplePen, self).write()\n",
    "# 分别创建这两个子类的对象\n",
    "ap = ApplePen()\n",
    "pp = PineapplePen()\n",
    "ap.write()\n",
    "pp.write()"
   ]
  },
  {
   "cell_type": "markdown",
   "metadata": {},
   "source": [
    "## 11-10 奥运奖牌榜"
   ]
  },
  {
   "cell_type": "code",
   "execution_count": 177,
   "metadata": {},
   "outputs": [
    {
     "name": "stdout",
     "output_type": "stream",
     "text": [
      "(11, 9, 7)\n",
      "China total 27\n",
      "['China', 'Japan', 'Spain', 'Korea']\n",
      "['China', 'Japan', 'Korea', 'Spain']\n"
     ]
    }
   ],
   "source": [
    "class MedalList:\n",
    "    def __init__(self, country, gold=0, silver=0, copper=0):\n",
    "        self.__country = country\n",
    "        self.__gold = gold\n",
    "        self.__silver = silver\n",
    "        self.__copper = copper\n",
    "        \n",
    "    def country(self):\n",
    "        return self.__country\n",
    "    def add(self, g, s, c):\n",
    "        self.__gold += g\n",
    "        self.__silver += s\n",
    "        self.__copper += c\n",
    "    \n",
    "    def medalInfo(self):\n",
    "#         print('金牌{}\\n银牌{}\\n铜牌{}\\n'.format(self.__gold, self.__silver, self.__copper))\n",
    "        return self.__gold, self.__silver, self.__copper\n",
    "        \n",
    "    def total(self):\n",
    "#         return '总数{}'.format(self.__gold + self.__silver + self.__copper)\n",
    "        return self.__gold + self.__silver + self.__copper\n",
    "        \n",
    "China = MedalList('China', 10, 8, 6)\n",
    "China.add(1,1,1)\n",
    "print(China.medalInfo())\n",
    "print('China total', China.total())\n",
    "# Korea._gold\n",
    "Korea = MedalList('Korea', 4, 3, 2)\n",
    "Spain = MedalList('Spain', 5, 3, 0)\n",
    "Japan = MedalList('Japan', 6, 3, 2)\n",
    "\n",
    "MedalLst = [China, Korea, Spain, Japan]\n",
    "order_by_gold = [i.country() for i in sorted(MedalLst, key=lambda x:x.medalInfo()[0], reverse=True)]\n",
    "print(order_by_gold)\n",
    "order_by_medal = [i.country() for i in sorted(MedalLst, key=lambda x:x.total(), reverse=True)]\n",
    "print(order_by_medal)"
   ]
  },
  {
   "cell_type": "code",
   "execution_count": 178,
   "metadata": {},
   "outputs": [
    {
     "data": {
      "text/plain": [
       "27"
      ]
     },
     "execution_count": 178,
     "metadata": {},
     "output_type": "execute_result"
    }
   ],
   "source": []
  },
  {
   "cell_type": "code",
   "execution_count": 180,
   "metadata": {},
   "outputs": [
    {
     "data": {
      "text/plain": [
       "'82'"
      ]
     },
     "execution_count": 180,
     "metadata": {},
     "output_type": "execute_result"
    }
   ],
   "source": [
    "import requests\n",
    "url = 'https://python666.cn/cls/number/guess/'\n",
    "r = requests.get(url)\n",
    "r.text"
   ]
  },
  {
   "cell_type": "code",
   "execution_count": null,
   "metadata": {},
   "outputs": [],
   "source": []
  }
 ],
 "metadata": {
  "kernelspec": {
   "display_name": "Python 3",
   "language": "python",
   "name": "python3"
  },
  "language_info": {
   "codemirror_mode": {
    "name": "ipython",
    "version": 3
   },
   "file_extension": ".py",
   "mimetype": "text/x-python",
   "name": "python",
   "nbconvert_exporter": "python",
   "pygments_lexer": "ipython3",
   "version": "3.7.7"
  },
  "toc": {
   "base_numbering": 1,
   "nav_menu": {},
   "number_sections": true,
   "sideBar": true,
   "skip_h1_title": false,
   "title_cell": "Table of Contents",
   "title_sidebar": "Contents",
   "toc_cell": false,
   "toc_position": {},
   "toc_section_display": true,
   "toc_window_display": true
  }
 },
 "nbformat": 4,
 "nbformat_minor": 4
}

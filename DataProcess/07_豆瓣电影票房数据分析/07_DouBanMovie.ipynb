{
 "cells": [
  {
   "cell_type": "markdown",
   "metadata": {},
   "source": [
    "#  项目概述"
   ]
  },
  {
   "cell_type": "markdown",
   "metadata": {},
   "source": [
    "## 目标"
   ]
  },
  {
   "cell_type": "code",
   "execution_count": 1,
   "metadata": {
    "collapsed": true
   },
   "outputs": [
    {
     "data": {
      "text/plain": [
       "'完成一份关于电影票房的数据分析，考察会对票房造成影响的可能因素。'"
      ]
     },
     "execution_count": 1,
     "metadata": {},
     "output_type": "execute_result"
    }
   ],
   "source": [
    "'完成一份关于电影票房的数据分析，考察会对票房造成影响的可能因素。'"
   ]
  },
  {
   "cell_type": "markdown",
   "metadata": {},
   "source": [
    "## 需要的信息"
   ]
  },
  {
   "cell_type": "code",
   "execution_count": 2,
   "metadata": {
    "collapsed": true
   },
   "outputs": [
    {
     "data": {
      "text/plain": [
       "'90年代至今电影的详细信息'"
      ]
     },
     "execution_count": 2,
     "metadata": {},
     "output_type": "execute_result"
    }
   ],
   "source": [
    "'90年代至今电影的详细信息'"
   ]
  },
  {
   "cell_type": "markdown",
   "metadata": {},
   "source": [
    "## 数据获取的大致步骤"
   ]
  },
  {
   "cell_type": "code",
   "execution_count": 3,
   "metadata": {
    "collapsed": true
   },
   "outputs": [
    {
     "data": {
      "text/plain": [
       "'\\n抓取所有1991年至2017年的所有上映电影\\n\\n根据电影名称抓取票房\\n\\n根据电影名称在豆瓣上抓取其名称、ID、平均分，并通过ID抓取页面上的星数结构占比\\n\\n根据电影ID抓取接口返回的电影条目详细信息\\n'"
      ]
     },
     "execution_count": 3,
     "metadata": {},
     "output_type": "execute_result"
    }
   ],
   "source": [
    "\"\"\"\n",
    "抓取所有1991年至2017年的所有上映电影\n",
    "\n",
    "根据电影名称抓取票房\n",
    "\n",
    "根据电影名称在豆瓣上抓取其名称、ID、平均分，并通过ID抓取页面上的星数结构占比\n",
    "\n",
    "根据电影ID抓取接口返回的电影条目详细信息\n",
    "\"\"\""
   ]
  },
  {
   "cell_type": "markdown",
   "metadata": {},
   "source": [
    "## 分析的大致步骤"
   ]
  },
  {
   "cell_type": "code",
   "execution_count": 4,
   "metadata": {
    "collapsed": true
   },
   "outputs": [
    {
     "data": {
      "text/plain": [
       "'\\n将所抓取到的数据内容合成一份含有电影的详细信息的大表后，选取一部分数据作为训练集，其余数据作为测试集，利用sklearn中的各种回归模型进行学习与预测\\n'"
      ]
     },
     "execution_count": 4,
     "metadata": {},
     "output_type": "execute_result"
    }
   ],
   "source": [
    "\"\"\"\n",
    "将所抓取到的数据内容合成一份含有电影的详细信息的大表后，选取一部分数据作为训练集，其余数据作为测试集，\n",
    "利用sklearn中的各种回归模型进行学习与预测\n",
    "\"\"\""
   ]
  },
  {
   "cell_type": "markdown",
   "metadata": {},
   "source": [
    "# 获取电影名称"
   ]
  },
  {
   "cell_type": "code",
   "execution_count": 16,
   "metadata": {},
   "outputs": [],
   "source": [
    "import requests\n",
    "from lxml import etree\n",
    "movies_name = []\n",
    "for year in range(1971, 2018):\n",
    "    url = 'https://www.1905.com/mdb/film/calendaryear/%s' % str(year)\n",
    "    try:\n",
    "        r = requests.get(url)\n",
    "        html = r.text\n",
    "        tree = etree.HTML(html)\n",
    "        movie_name = tree.xpath('//a[@class=\"film\"]/text()')\n",
    "        movies_name.extend(movie_name)\n",
    "    # <h3><a class=\"mdbColor f15\" href=\"/mdb/film/2226966/\" target=\"_blank\">《少年巴比伦》</a></h3>\n",
    "    # <h3><a class=\"mdbColor f15\" href=\"/mdb/film/2117039/\" target=\"_blank\">《太空旅客》</a></h3>\n",
    "    # 数据输出\n",
    "        output_file = 'movies/movies-%s.txt' % str(year)\n",
    "        with open(output_file, 'w', encoding='utf-8') as f:\n",
    "            for movie in movie_name:\n",
    "                f.write(movie + '\\n')\n",
    "    except:\n",
    "        print(year)"
   ]
  },
  {
   "cell_type": "code",
   "execution_count": 21,
   "metadata": {},
   "outputs": [],
   "source": [
    "with open('movies_name.txt', 'w', encoding='utf-8') as f:\n",
    "    for movie in movies_name:\n",
    "        f.write(movie + '\\n')"
   ]
  },
  {
   "cell_type": "markdown",
   "metadata": {},
   "source": [
    "# 获取票房"
   ]
  },
  {
   "cell_type": "code",
   "execution_count": 59,
   "metadata": {},
   "outputs": [
    {
     "name": "stdout",
     "output_type": "stream",
     "text": [
      "['/enbase/tryInfo.html', 'http://www.beian.gov.cn/portal/registerSystemInfo?recordcode=11010502037000']\n",
      "战狼2\thttp://www.beian.gov.cn/portal/registerSystemInfo?recordcode=11010502037000\n"
     ]
    }
   ],
   "source": [
    "import requests\n",
    "from lxml import etree\n",
    "movie = '战狼2'\n",
    "# search_url = 'http://www.cbooo.cn/search?k=%s' % movie\n",
    "search_url = 'http://www.endata.com.cn/BoxOffice/search.html?key=%s' % movie\n",
    "# 代理IP\n",
    "proxy = '111.13..109.27:80'\n",
    "proxies = {\n",
    "    'http': 'http://' + proxy,\n",
    "    'https': 'https://' + proxy\n",
    "}\n",
    "# try:\n",
    "r = requests.get(search_url)\n",
    "html = r.text\n",
    "tree = etree.HTML(html)\n",
    "boxing_urls = tree.xpath('//a[@target=\"_blank\"]/@href')\n",
    "print(boxing_urls)\n",
    "print(movie + '\\t' + boxing_urls[1])\n",
    "# except:\n",
    "#     print(movie)\n",
    "#     boxing_urls\n",
    "# <a target=\"_blank\" href=\"/BoxOffice/MovieStock/movieShow.html?id=641515\">战狼2 <em>Wolf Warriors 2</em> <i>2017年</i> <i>567,929.45万</i> </a>"
   ]
  },
  {
   "cell_type": "markdown",
   "metadata": {},
   "source": [
    "# 获取豆瓣评分星数占比"
   ]
  },
  {
   "cell_type": "code",
   "execution_count": 60,
   "metadata": {},
   "outputs": [],
   "source": [
    "class Movie(object):\n",
    "    def __init__(self, name, rating, id_number, year):\n",
    "        self.name = name\n",
    "        self.rating = rating\n",
    "        self.id_number = id_number\n",
    "        self.year = year\n",
    "        self.weighted_ratings = []\n",
    "        self.amount = 0\n",
    "    \n",
    "    def set_weighted_ratings(self, weighted_ratings):\n",
    "        assert type(weighted_ratings) == list\n",
    "        self.weighted_ratings = weighted_ratings\n",
    "    \n",
    "    def set_amount(self, amount):\n",
    "        self.amount = amount"
   ]
  },
  {
   "cell_type": "code",
   "execution_count": 66,
   "metadata": {},
   "outputs": [],
   "source": [
    "result = []\n",
    "movie_name = '战狼2'\n",
    "# 不使用代理的情况\n",
    "url = 'https://douban.uieee.com/v2/movie/search?q=%s' % movie_name\n",
    "r = requests.get(url)\n",
    "# data = r.json()\n",
    "# average_rating = data['subjects'][0]['rating']['average']\n",
    "# id_number = data['subjects'][0]['id']\n",
    "# print(movie_name, average_rating, id_number)\n",
    "# result.append(Movie(movie_name, average_rating, id_number, year))"
   ]
  },
  {
   "cell_type": "code",
   "execution_count": 67,
   "metadata": {},
   "outputs": [
    {
     "data": {
      "text/plain": [
       "'The page could not be found\\n\\nDEPLOYMENT_DISABLED\\n'"
      ]
     },
     "execution_count": 67,
     "metadata": {},
     "output_type": "execute_result"
    }
   ],
   "source": [
    "r.text"
   ]
  },
  {
   "cell_type": "markdown",
   "metadata": {},
   "source": [
    "# 分析阶段"
   ]
  },
  {
   "cell_type": "code",
   "execution_count": 71,
   "metadata": {},
   "outputs": [
    {
     "data": {
      "text/plain": [
       "array([17., 23.])"
      ]
     },
     "execution_count": 71,
     "metadata": {},
     "output_type": "execute_result"
    }
   ],
   "source": [
    "from sklearn import linear_model\n",
    "model = linear_model.LinearRegression()\n",
    "train_x = [[1,2],[3,4]]\n",
    "train_y = [5,11]\n",
    "test_x = [[5,6],[7,8]]\n",
    "model.fit(train_x, train_y)\n",
    "model.predict(test_x)"
   ]
  },
  {
   "cell_type": "code",
   "execution_count": null,
   "metadata": {},
   "outputs": [],
   "source": []
  }
 ],
 "metadata": {
  "kernelspec": {
   "display_name": "Python 3",
   "language": "python",
   "name": "python3"
  },
  "language_info": {
   "codemirror_mode": {
    "name": "ipython",
    "version": 3
   },
   "file_extension": ".py",
   "mimetype": "text/x-python",
   "name": "python",
   "nbconvert_exporter": "python",
   "pygments_lexer": "ipython3",
   "version": "3.7.7"
  },
  "toc": {
   "base_numbering": 1,
   "nav_menu": {},
   "number_sections": true,
   "sideBar": true,
   "skip_h1_title": false,
   "title_cell": "Table of Contents",
   "title_sidebar": "Contents",
   "toc_cell": false,
   "toc_position": {},
   "toc_section_display": true,
   "toc_window_display": true
  }
 },
 "nbformat": 4,
 "nbformat_minor": 4
}

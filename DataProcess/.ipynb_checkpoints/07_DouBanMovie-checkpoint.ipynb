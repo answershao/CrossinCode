{
 "cells": [
  {
   "cell_type": "markdown",
   "metadata": {},
   "source": [
    "#  项目概述"
   ]
  },
  {
   "cell_type": "markdown",
   "metadata": {},
   "source": [
    "## 目标"
   ]
  },
  {
   "cell_type": "code",
   "execution_count": 1,
   "metadata": {
    "collapsed": true
   },
   "outputs": [
    {
     "data": {
      "text/plain": [
       "'完成一份关于电影票房的数据分析，考察会对票房造成影响的可能因素。'"
      ]
     },
     "execution_count": 1,
     "metadata": {},
     "output_type": "execute_result"
    }
   ],
   "source": [
    "'完成一份关于电影票房的数据分析，考察会对票房造成影响的可能因素。'"
   ]
  },
  {
   "cell_type": "markdown",
   "metadata": {},
   "source": [
    "## 需要的信息"
   ]
  },
  {
   "cell_type": "code",
   "execution_count": 2,
   "metadata": {
    "collapsed": true
   },
   "outputs": [
    {
     "data": {
      "text/plain": [
       "'90年代至今电影的详细信息'"
      ]
     },
     "execution_count": 2,
     "metadata": {},
     "output_type": "execute_result"
    }
   ],
   "source": [
    "'90年代至今电影的详细信息'"
   ]
  },
  {
   "cell_type": "markdown",
   "metadata": {},
   "source": [
    "## 数据获取的大致步骤"
   ]
  },
  {
   "cell_type": "code",
   "execution_count": 3,
   "metadata": {
    "collapsed": true
   },
   "outputs": [
    {
     "data": {
      "text/plain": [
       "'\\n抓取所有1991年至2017年的所有上映电影\\n\\n根据电影名称抓取票房\\n\\n根据电影名称在豆瓣上抓取其名称、ID、平均分，并通过ID抓取页面上的星数结构占比\\n\\n根据电影ID抓取接口返回的电影条目详细信息\\n'"
      ]
     },
     "execution_count": 3,
     "metadata": {},
     "output_type": "execute_result"
    }
   ],
   "source": [
    "\"\"\"\n",
    "抓取所有1991年至2017年的所有上映电影\n",
    "\n",
    "根据电影名称抓取票房\n",
    "\n",
    "根据电影名称在豆瓣上抓取其名称、ID、平均分，并通过ID抓取页面上的星数结构占比\n",
    "\n",
    "根据电影ID抓取接口返回的电影条目详细信息\n",
    "\"\"\""
   ]
  },
  {
   "cell_type": "markdown",
   "metadata": {},
   "source": [
    "## 分析的大致步骤"
   ]
  },
  {
   "cell_type": "code",
   "execution_count": 4,
   "metadata": {
    "collapsed": true
   },
   "outputs": [
    {
     "data": {
      "text/plain": [
       "'\\n将所抓取到的数据内容合成一份含有电影的详细信息的大表后，选取一部分数据作为训练集，其余数据作为测试集，利用sklearn中的各种回归模型进行学习与预测\\n'"
      ]
     },
     "execution_count": 4,
     "metadata": {},
     "output_type": "execute_result"
    }
   ],
   "source": [
    "\"\"\"\n",
    "将所抓取到的数据内容合成一份含有电影的详细信息的大表后，选取一部分数据作为训练集，其余数据作为测试集，\n",
    "利用sklearn中的各种回归模型进行学习与预测\n",
    "\"\"\""
   ]
  },
  {
   "cell_type": "code",
   "execution_count": 12,
   "metadata": {},
   "outputs": [],
   "source": [
    "import requests\n",
    "from lxml import etree\n",
    "year = 2017\n",
    "url = 'https://www.1905.com/mdb/film/calendaryear/%s' % str(year)\n",
    "r = requests.get(url)\n",
    "html = r.text\n",
    "tree = etree.HTML(html)\n",
    "movies_name = tree.xpath('//a[@class=\"film\"]/text()')\n",
    "# <h3><a class=\"mdbColor f15\" href=\"/mdb/film/2226966/\" target=\"_blank\">《少年巴比伦》</a></h3>\n",
    "# <h3><a class=\"mdbColor f15\" href=\"/mdb/film/2117039/\" target=\"_blank\">《太空旅客》</a></h3>\n",
    "\n",
    "# 数据输出\n",
    "output_file = 'movies/movies-%s.txt' % str(year)\n",
    "with open(output_file, 'w') as f:\n",
    "    for movie in movies_name:\n",
    "        f.write(movie + '\\n')"
   ]
  },
  {
   "cell_type": "code",
   "execution_count": 14,
   "metadata": {},
   "outputs": [
    {
     "data": {
      "text/plain": [
       "492"
      ]
     },
     "execution_count": 14,
     "metadata": {},
     "output_type": "execute_result"
    }
   ],
   "source": []
  },
  {
   "cell_type": "code",
   "execution_count": null,
   "metadata": {},
   "outputs": [],
   "source": []
  }
 ],
 "metadata": {
  "kernelspec": {
   "display_name": "Python 3",
   "language": "python",
   "name": "python3"
  },
  "language_info": {
   "codemirror_mode": {
    "name": "ipython",
    "version": 3
   },
   "file_extension": ".py",
   "mimetype": "text/x-python",
   "name": "python",
   "nbconvert_exporter": "python",
   "pygments_lexer": "ipython3",
   "version": "3.7.7"
  },
  "toc": {
   "base_numbering": 1,
   "nav_menu": {},
   "number_sections": true,
   "sideBar": true,
   "skip_h1_title": false,
   "title_cell": "Table of Contents",
   "title_sidebar": "Contents",
   "toc_cell": false,
   "toc_position": {},
   "toc_section_display": true,
   "toc_window_display": false
  }
 },
 "nbformat": 4,
 "nbformat_minor": 4
}
